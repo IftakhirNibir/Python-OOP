{
 "cells": [
  {
   "cell_type": "code",
   "execution_count": 74,
   "id": "f0af59f6",
   "metadata": {},
   "outputs": [],
   "source": [
    "import csv"
   ]
  },
  {
   "cell_type": "code",
   "execution_count": 75,
   "id": "3645b2ab",
   "metadata": {},
   "outputs": [],
   "source": [
    "class Item:\n",
    "    \n",
    "    pay_rate = 0.8 # The pay rate after 20% discount\n",
    "    all = []\n",
    "    \n",
    "    def __init__(self,name:str,price:float,quantity=0): \n",
    "        # Run validations to the received arguments\n",
    "        assert price >=0, f\"Price {price} is not greater than or equal to zero!\"\n",
    "        assert quantity >=0, f\"Quantity {quantity} is not greater than or equal to zero!\" \n",
    "        \n",
    "        # Assign to self object\n",
    "        self.__name = name\n",
    "        self.price = price\n",
    "        self.quantity = quantity\n",
    "        \n",
    "        # Actions to execute\n",
    "        Item.all.append(self)\n",
    "        \n",
    "    @property\n",
    "    def name(self):\n",
    "        return self.__name\n",
    "    \n",
    "    @name.setter\n",
    "    def name(self,value):\n",
    "        if len(value) > 10:\n",
    "            raise Exception(\"The name lenth is too long\")\n",
    "        else:\n",
    "            self.__name = value\n",
    "        \n",
    "    def calculate_total_price(self):\n",
    "        return self.price*self.quantity\n",
    "    \n",
    "    def apply_discount(self):\n",
    "        self.price = self.price* self.pay_rate\n",
    "    \n",
    "    @classmethod\n",
    "    def instantiate_from_csv(cls):\n",
    "        with open('products.csv','r') as f:\n",
    "            reader = csv.DictReader(f) #read content as a list of dictionary\n",
    "            items = list(reader) #convert them as a list\n",
    "            \n",
    "        for item in items:\n",
    "            Item(\n",
    "                name=item.get('name'),\n",
    "                price=float(item.get('price')),\n",
    "                quantity=int(item.get('quantity')),\n",
    "            )\n",
    "            \n",
    "    @staticmethod\n",
    "    def is_integer(num):\n",
    "        # We will count out the floats that are point zero\n",
    "        # For i.e: 5.0, 10.0\n",
    "        if isinstance(num,float):\n",
    "            # Count out the floats that are point zero\n",
    "            return num.is_integer()\n",
    "        elif isinstance(num,int):\n",
    "            return True\n",
    "        else:\n",
    "            return False\n",
    "    \n",
    "    def __repr__(self):\n",
    "        return f\"{self.__class__.__name__}('{self.name}',{self.price},{self.quantity})\""
   ]
  },
  {
   "cell_type": "markdown",
   "id": "83c09bbb",
   "metadata": {},
   "source": [
    "<h3>OOP Principle</h3><br>\n",
    "Object Oriented Programming comes with four key principles. They are Encapsulation, Abstraction, Inheritance, Polymorphism  "
   ]
  },
  {
   "cell_type": "markdown",
   "id": "af3effeb",
   "metadata": {},
   "source": [
    "<h3>Encapsulation</h3><br>\n",
    "It refers to a mechanism of restricting the direct access to some of our attributes in  a program. In our code, we see how our name attribute could not be set to a new value, before it goes through some conditions that we set there, like the length of the character being less than 10 characters. So restricting the ability to override the values for our objects is exactly what the encapsulation principle is about. "
   ]
  },
  {
   "cell_type": "code",
   "execution_count": 76,
   "id": "47e7dfa5",
   "metadata": {},
   "outputs": [],
   "source": [
    "class Item:\n",
    "    \n",
    "    pay_rate = 0.8 # The pay rate after 20% discount\n",
    "    all = []\n",
    "    \n",
    "    def __init__(self,name:str,price:float,quantity=0): \n",
    "        # Run validations to the received arguments\n",
    "        assert price >=0, f\"Price {price} is not greater than or equal to zero!\"\n",
    "        assert quantity >=0, f\"Quantity {quantity} is not greater than or equal to zero!\" \n",
    "        \n",
    "        # Assign to self object\n",
    "        self.__name = name\n",
    "        self.price = price\n",
    "        self.quantity = quantity\n",
    "        \n",
    "        # Actions to execute\n",
    "        Item.all.append(self)\n",
    "        \n",
    "    @property\n",
    "    def name(self):\n",
    "        return self.__name\n",
    "    \n",
    "    @name.setter\n",
    "    def name(self,value):\n",
    "        if len(value) > 10:\n",
    "            raise Exception(\"The name lenth is too long\")\n",
    "        else:\n",
    "            self.__name = value\n",
    "        \n",
    "    def calculate_total_price(self):\n",
    "        return self.price*self.quantity\n",
    "    \n",
    "    def apply_increment(self,value):\n",
    "        self.price = self.price + self.price * value\n",
    "    \n",
    "    def apply_discount(self):\n",
    "        self.price = self.price* self.pay_rate\n",
    "    \n",
    "    @classmethod\n",
    "    def instantiate_from_csv(cls):\n",
    "        with open('products.csv','r') as f:\n",
    "            reader = csv.DictReader(f) #read content as a list of dictionary\n",
    "            items = list(reader) #convert them as a list\n",
    "            \n",
    "        for item in items:\n",
    "            Item(\n",
    "                name=item.get('name'),\n",
    "                price=float(item.get('price')),\n",
    "                quantity=int(item.get('quantity')),\n",
    "            )\n",
    "            \n",
    "    @staticmethod\n",
    "    def is_integer(num):\n",
    "        # We will count out the floats that are point zero\n",
    "        # For i.e: 5.0, 10.0\n",
    "        if isinstance(num,float):\n",
    "            # Count out the floats that are point zero\n",
    "            return num.is_integer()\n",
    "        elif isinstance(num,int):\n",
    "            return True\n",
    "        else:\n",
    "            return False\n",
    "    \n",
    "    def __repr__(self):\n",
    "        return f\"{self.__class__.__name__}('{self.name}',{self.price},{self.quantity})\""
   ]
  },
  {
   "cell_type": "code",
   "execution_count": 77,
   "id": "1f132e4f",
   "metadata": {},
   "outputs": [
    {
     "name": "stdout",
     "output_type": "stream",
     "text": [
      "750\n",
      "900.0\n"
     ]
    }
   ],
   "source": [
    "item1 = Item(\"MyItem\",750)\n",
    "print(item1.price)\n",
    "item1.apply_increment(0.2)\n",
    "print(item1.price)"
   ]
  },
  {
   "cell_type": "markdown",
   "id": "af760dc0",
   "metadata": {},
   "source": [
    "That is exactly encapsulation in action because we don't allow the access directly to the price attribute. we modify this attribute by using methods like apply_increment and apply_discount.   "
   ]
  },
  {
   "cell_type": "markdown",
   "id": "b302cabf",
   "metadata": {},
   "source": [
    "<h3>Abstraction</h3><br>\n",
    "It only shows the necessary attributes and hides the unnecessary information. The main purpose of abstraction is basically hiding unnecessary details from the users or instances.<br>\n",
    "Email sending has to go a lot of processes like connecting to an SMTP server, preparing the body of the email with an auto message. For example: "
   ]
  },
  {
   "cell_type": "code",
   "execution_count": 86,
   "id": "60dcebfd",
   "metadata": {},
   "outputs": [],
   "source": [
    "class Item:\n",
    "    \n",
    "    pay_rate = 0.8 # The pay rate after 20% discount\n",
    "    all = []\n",
    "    \n",
    "    def __init__(self,name:str,price:float,quantity=0): \n",
    "        # Run validations to the received arguments\n",
    "        assert price >=0, f\"Price {price} is not greater than or equal to zero!\"\n",
    "        assert quantity >=0, f\"Quantity {quantity} is not greater than or equal to zero!\" \n",
    "        \n",
    "        # Assign to self object\n",
    "        self.__name = name\n",
    "        self.price = price\n",
    "        self.quantity = quantity\n",
    "        \n",
    "        # Actions to execute\n",
    "        Item.all.append(self)\n",
    "        \n",
    "    @property\n",
    "    def name(self):\n",
    "        return self.__name\n",
    "    \n",
    "    @name.setter\n",
    "    def name(self,value):\n",
    "        if len(value) > 10:\n",
    "            raise Exception(\"The name lenth is too long\")\n",
    "        else:\n",
    "            self.__name = value\n",
    "        \n",
    "    def calculate_total_price(self):\n",
    "        return self.price*self.quantity\n",
    "    \n",
    "    def apply_increment(self,value):\n",
    "        self.price = self.price + self.price * value\n",
    "    \n",
    "    def apply_discount(self):\n",
    "        self.price = self.price* self.pay_rate\n",
    "    \n",
    "    @classmethod\n",
    "    def instantiate_from_csv(cls):\n",
    "        with open('products.csv','r') as f:\n",
    "            reader = csv.DictReader(f) #read content as a list of dictionary\n",
    "            items = list(reader) #convert them as a list\n",
    "            \n",
    "        for item in items:\n",
    "            Item(\n",
    "                name=item.get('name'),\n",
    "                price=float(item.get('price')),\n",
    "                quantity=int(item.get('quantity')),\n",
    "            )\n",
    "            \n",
    "    @staticmethod\n",
    "    def is_integer(num):\n",
    "        # We will count out the floats that are point zero\n",
    "        # For i.e: 5.0, 10.0\n",
    "        if isinstance(num,float):\n",
    "            # Count out the floats that are point zero\n",
    "            return num.is_integer()\n",
    "        elif isinstance(num,int):\n",
    "            return True\n",
    "        else:\n",
    "            return False\n",
    "    \n",
    "    def __repr__(self):\n",
    "        return f\"{self.__class__.__name__}('{self.name}',{self.price},{self.quantity})\"\n",
    "    \n",
    "    def connect(self, smpt_server):\n",
    "        pass\n",
    "    \n",
    "    def prepare_body(self):\n",
    "        return f\"\"\"\n",
    "        Hello Someone.\n",
    "        We have {self.name} {self.quantity} times.\n",
    "        Regards, Programmer\n",
    "        \"\"\"\n",
    "    \n",
    "    def send(self):\n",
    "        pass\n",
    "    \n",
    "    def send_email(self):\n",
    "        self.connect('')\n",
    "        self.prepare_body()\n",
    "        self.send()\n",
    "    #Those methods are only going to be called from the send_email. Because those are just parts of \n",
    "    #the email sending process"
   ]
  },
  {
   "cell_type": "code",
   "execution_count": 87,
   "id": "c099a181",
   "metadata": {},
   "outputs": [],
   "source": [
    "item1 = Item(\"MyItem\",750,6)"
   ]
  },
  {
   "cell_type": "code",
   "execution_count": 88,
   "id": "9b38ba3f",
   "metadata": {},
   "outputs": [],
   "source": [
    "item1.send_email()\n",
    "#But the biggest problem is we can access calling those methods from the instance. For example\n",
    "item1.connect('')"
   ]
  },
  {
   "cell_type": "markdown",
   "id": "60118cf0",
   "metadata": {},
   "source": [
    "Abstrction principle says that we should hide unnecessary information from the instances so that is why by converting those methods into being private methods, then we actually apply abstraction principles. It is achievable by adding double underscore. "
   ]
  },
  {
   "cell_type": "code",
   "execution_count": 89,
   "id": "52a4561c",
   "metadata": {},
   "outputs": [],
   "source": [
    "class Item:\n",
    "    \n",
    "    pay_rate = 0.8 # The pay rate after 20% discount\n",
    "    all = []\n",
    "    \n",
    "    def __init__(self,name:str,price:float,quantity=0): \n",
    "        # Run validations to the received arguments\n",
    "        assert price >=0, f\"Price {price} is not greater than or equal to zero!\"\n",
    "        assert quantity >=0, f\"Quantity {quantity} is not greater than or equal to zero!\" \n",
    "        \n",
    "        # Assign to self object\n",
    "        self.__name = name\n",
    "        self.price = price\n",
    "        self.quantity = quantity\n",
    "        \n",
    "        # Actions to execute\n",
    "        Item.all.append(self)\n",
    "        \n",
    "    @property\n",
    "    def name(self):\n",
    "        return self.__name\n",
    "    \n",
    "    @name.setter\n",
    "    def name(self,value):\n",
    "        if len(value) > 10:\n",
    "            raise Exception(\"The name lenth is too long\")\n",
    "        else:\n",
    "            self.__name = value\n",
    "        \n",
    "    def calculate_total_price(self):\n",
    "        return self.price*self.quantity\n",
    "    \n",
    "    def apply_increment(self,value):\n",
    "        self.price = self.price + self.price * value\n",
    "    \n",
    "    def apply_discount(self):\n",
    "        self.price = self.price* self.pay_rate\n",
    "    \n",
    "    @classmethod\n",
    "    def instantiate_from_csv(cls):\n",
    "        with open('products.csv','r') as f:\n",
    "            reader = csv.DictReader(f) #read content as a list of dictionary\n",
    "            items = list(reader) #convert them as a list\n",
    "            \n",
    "        for item in items:\n",
    "            Item(\n",
    "                name=item.get('name'),\n",
    "                price=float(item.get('price')),\n",
    "                quantity=int(item.get('quantity')),\n",
    "            )\n",
    "            \n",
    "    @staticmethod\n",
    "    def is_integer(num):\n",
    "        # We will count out the floats that are point zero\n",
    "        # For i.e: 5.0, 10.0\n",
    "        if isinstance(num,float):\n",
    "            # Count out the floats that are point zero\n",
    "            return num.is_integer()\n",
    "        elif isinstance(num,int):\n",
    "            return True\n",
    "        else:\n",
    "            return False\n",
    "    \n",
    "    def __repr__(self):\n",
    "        return f\"{self.__class__.__name__}('{self.name}',{self.price},{self.quantity})\"\n",
    "    \n",
    "    def __connect(self, smpt_server):\n",
    "        pass\n",
    "    \n",
    "    def __prepare_body(self):\n",
    "        return f\"\"\"\n",
    "        Hello Someone.\n",
    "        We have {self.name} {self.quantity} times.\n",
    "        Regards, Programmer\n",
    "        \"\"\"\n",
    "    \n",
    "    def __send(self):\n",
    "        pass\n",
    "    \n",
    "    def send_email(self):\n",
    "        self.connect()\n",
    "        self.prepare_body()\n",
    "        self.send()\n",
    "    #Those methods are only going to be called from the send_email. Because those are just parts of \n",
    "    #the email sending process"
   ]
  },
  {
   "cell_type": "code",
   "execution_count": 90,
   "id": "7be51dab",
   "metadata": {},
   "outputs": [],
   "source": [
    "item1 = Item(\"MyItem\",750,6)"
   ]
  },
  {
   "cell_type": "code",
   "execution_count": 91,
   "id": "84d22c6d",
   "metadata": {},
   "outputs": [
    {
     "ename": "AttributeError",
     "evalue": "'Item' object has no attribute 'connect'",
     "output_type": "error",
     "traceback": [
      "\u001b[1;31m---------------------------------------------------------------------------\u001b[0m",
      "\u001b[1;31mAttributeError\u001b[0m                            Traceback (most recent call last)",
      "\u001b[1;32m~\\AppData\\Local\\Temp/ipykernel_16948/2320370550.py\u001b[0m in \u001b[0;36m<module>\u001b[1;34m\u001b[0m\n\u001b[1;32m----> 1\u001b[1;33m \u001b[0mitem1\u001b[0m\u001b[1;33m.\u001b[0m\u001b[0mconnect\u001b[0m\u001b[1;33m(\u001b[0m\u001b[1;34m''\u001b[0m\u001b[1;33m)\u001b[0m\u001b[1;33m\u001b[0m\u001b[1;33m\u001b[0m\u001b[0m\n\u001b[0m",
      "\u001b[1;31mAttributeError\u001b[0m: 'Item' object has no attribute 'connect'"
     ]
    }
   ],
   "source": [
    "item1.connect('')"
   ]
  },
  {
   "cell_type": "code",
   "execution_count": 92,
   "id": "01e6fe73",
   "metadata": {},
   "outputs": [
    {
     "ename": "AttributeError",
     "evalue": "'Item' object has no attribute '__connect'",
     "output_type": "error",
     "traceback": [
      "\u001b[1;31m---------------------------------------------------------------------------\u001b[0m",
      "\u001b[1;31mAttributeError\u001b[0m                            Traceback (most recent call last)",
      "\u001b[1;32m~\\AppData\\Local\\Temp/ipykernel_16948/3417778240.py\u001b[0m in \u001b[0;36m<module>\u001b[1;34m\u001b[0m\n\u001b[1;32m----> 1\u001b[1;33m \u001b[0mitem1\u001b[0m\u001b[1;33m.\u001b[0m\u001b[0m__connect\u001b[0m\u001b[1;33m(\u001b[0m\u001b[1;34m''\u001b[0m\u001b[1;33m)\u001b[0m\u001b[1;33m\u001b[0m\u001b[1;33m\u001b[0m\u001b[0m\n\u001b[0m",
      "\u001b[1;31mAttributeError\u001b[0m: 'Item' object has no attribute '__connect'"
     ]
    }
   ],
   "source": [
    "item1.__connect('')"
   ]
  },
  {
   "cell_type": "markdown",
   "id": "f5873598",
   "metadata": {},
   "source": [
    "The reason for that is because that is a private method. "
   ]
  },
  {
   "cell_type": "markdown",
   "id": "f1d37ce2",
   "metadata": {},
   "source": [
    "<h3>Inheritance</h3>\n",
    "It is a mechanism that allows us to reuse code across our classes. "
   ]
  },
  {
   "cell_type": "code",
   "execution_count": 93,
   "id": "0158fdc2",
   "metadata": {},
   "outputs": [],
   "source": [
    "class Phone(Item):\n",
    "    def __init__(self,name:str,price:float,quantity=0,broken_phones=0):\n",
    "        super().__init__(\n",
    "            name,price,quantity\n",
    "        )\n",
    "        \n",
    "        assert broken_phones>=0, f\"The number of {broken_phones} is not greater than or equal to zero\"\n",
    "        \n",
    "        self.broken_phones = broken_phones"
   ]
  },
  {
   "cell_type": "code",
   "execution_count": 94,
   "id": "745f5f6a",
   "metadata": {},
   "outputs": [
    {
     "name": "stdout",
     "output_type": "stream",
     "text": [
      "1200.0\n"
     ]
    }
   ],
   "source": [
    "item2 = Phone(\"jscPhone\",1000,3)\n",
    "item2.apply_increment(0.2)\n",
    "print(item2.price)"
   ]
  },
  {
   "cell_type": "markdown",
   "id": "6c90d8b5",
   "metadata": {},
   "source": [
    "<h3>Polymorphism</h3>\n",
    "It refers to use of a single type entity to represent different types in different scenarios. Poly means many and morphism means forms so polymorphism refers to many forms. So again the idea of applying polymorphism on our programs is the ability to have different scenarios, when we call the exact same entity and an entity could be a function that we just call."
   ]
  },
  {
   "cell_type": "markdown",
   "id": "dad9c478",
   "metadata": {},
   "source": [
    "A great example of where polymorphism is applied is in the \"len\" bulit in function. Because the \"len\" building function in python knows how to handle different kinds of objects that it receives as an argument, and it returns us a result accordingly. For example: "
   ]
  },
  {
   "cell_type": "code",
   "execution_count": 95,
   "id": "d414f998",
   "metadata": {},
   "outputs": [
    {
     "name": "stdout",
     "output_type": "stream",
     "text": [
      "9\n",
      "2\n"
     ]
    }
   ],
   "source": [
    "name = \"Introvert\" #str\n",
    "print(len(name))\n",
    "some_list = [\"some\",\"name\"] #list\n",
    "print(len(some_list))"
   ]
  },
  {
   "cell_type": "markdown",
   "id": "ba797624",
   "metadata": {},
   "source": [
    "So \"len\" is just a single entity that does know how to handle different kinds of objects as expected. "
   ]
  },
  {
   "cell_type": "markdown",
   "id": "8810bd0b",
   "metadata": {},
   "source": [
    "Polymorphism refers to one single entity that we can use for multiple objects. In our code \"apply_discount()\" method is work as polymorphism. Because the apply discount is a method that is going to be accessible from all the kinds of objects "
   ]
  }
 ],
 "metadata": {
  "kernelspec": {
   "display_name": "Python 3 (ipykernel)",
   "language": "python",
   "name": "python3"
  },
  "language_info": {
   "codemirror_mode": {
    "name": "ipython",
    "version": 3
   },
   "file_extension": ".py",
   "mimetype": "text/x-python",
   "name": "python",
   "nbconvert_exporter": "python",
   "pygments_lexer": "ipython3",
   "version": "3.9.6"
  }
 },
 "nbformat": 4,
 "nbformat_minor": 5
}
