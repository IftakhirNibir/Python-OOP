{
 "cells": [
  {
   "cell_type": "markdown",
   "id": "04b38c13",
   "metadata": {},
   "source": [
    "In Python programming language, each data type is an object that has been instantiated earlier by some class"
   ]
  },
  {
   "cell_type": "code",
   "execution_count": 1,
   "id": "0074a163",
   "metadata": {},
   "outputs": [],
   "source": [
    "class Item:\n",
    "    pass"
   ]
  },
  {
   "cell_type": "code",
   "execution_count": 2,
   "id": "14f733b3",
   "metadata": {},
   "outputs": [],
   "source": [
    "item1 = Item() \n",
    "item1.name = \"Phone\"\n",
    "item1.price = 100\n",
    "item1.quantity = 5"
   ]
  },
  {
   "cell_type": "markdown",
   "id": "077d30af",
   "metadata": {},
   "source": [
    "Each one of the attributes are assigned to one instance of the class. "
   ]
  },
  {
   "cell_type": "code",
   "execution_count": 4,
   "id": "3fef9841",
   "metadata": {},
   "outputs": [
    {
     "name": "stdout",
     "output_type": "stream",
     "text": [
      "<class '__main__.Item'>\n"
     ]
    }
   ],
   "source": [
    "print(type(item1)) #This is our own datatype which we created "
   ]
  },
  {
   "cell_type": "markdown",
   "id": "62f4d7e1",
   "metadata": {},
   "source": [
    "Now we need to add some functionality which is called method in class"
   ]
  },
  {
   "cell_type": "code",
   "execution_count": 5,
   "id": "cc187bbe",
   "metadata": {},
   "outputs": [],
   "source": [
    "class Item:\n",
    "    def calculate_total_price(self,x,y):\n",
    "        return x*y"
   ]
  },
  {
   "cell_type": "code",
   "execution_count": 6,
   "id": "e15ba7ff",
   "metadata": {},
   "outputs": [],
   "source": [
    "item1 = Item() \n",
    "item1.name = \"Phone\"\n",
    "item1.price = 100\n",
    "item1.quantity = 5"
   ]
  },
  {
   "cell_type": "code",
   "execution_count": 8,
   "id": "80626557",
   "metadata": {},
   "outputs": [
    {
     "data": {
      "text/plain": [
       "500"
      ]
     },
     "execution_count": 8,
     "metadata": {},
     "output_type": "execute_result"
    }
   ],
   "source": [
    "item1.calculate_total_price(item1.price,item1.quantity)"
   ]
  },
  {
   "cell_type": "code",
   "execution_count": 9,
   "id": "7985870b",
   "metadata": {},
   "outputs": [],
   "source": [
    "class Item:\n",
    "    def __init__(self):\n",
    "        print(\"I am created :D\")\n",
    "        \n",
    "    def calculate_total_price(self,x,y):\n",
    "        return x*y"
   ]
  },
  {
   "cell_type": "code",
   "execution_count": 10,
   "id": "4e3da65f",
   "metadata": {},
   "outputs": [
    {
     "name": "stdout",
     "output_type": "stream",
     "text": [
      "I am created :D\n",
      "I am created :D\n"
     ]
    }
   ],
   "source": [
    "item1 = Item() \n",
    "item1.name = \"Phone\"\n",
    "item1.price = 100\n",
    "item1.quantity = 5\n",
    "\n",
    "item2 = Item() \n",
    "item2.name = \"Laptop\"\n",
    "item2.price = 1000\n",
    "item2.quantity = 3"
   ]
  },
  {
   "cell_type": "markdown",
   "id": "a79b5e01",
   "metadata": {},
   "source": [
    "Because for each instance that we will create, it will go ahead and call init method automatically  "
   ]
  },
  {
   "cell_type": "code",
   "execution_count": 11,
   "id": "9fd5007f",
   "metadata": {},
   "outputs": [],
   "source": [
    "class Item:\n",
    "    def __init__(self,name,price,quantity):\n",
    "        self.name = name\n",
    "        self.price = price\n",
    "        self.quantity = quantity\n",
    "        \n",
    "    def calculate_total_price(self,x,y):\n",
    "        return x*y"
   ]
  },
  {
   "cell_type": "code",
   "execution_count": 12,
   "id": "762e95d7",
   "metadata": {},
   "outputs": [],
   "source": [
    "item1 = Item(\"Phone\",100,5)\n",
    "item2 = Item(\"Laptob\",1000,3)"
   ]
  },
  {
   "cell_type": "code",
   "execution_count": 13,
   "id": "459a246c",
   "metadata": {},
   "outputs": [
    {
     "name": "stdout",
     "output_type": "stream",
     "text": [
      "Phone\n",
      "100\n",
      "5\n",
      "Laptob\n",
      "1000\n",
      "3\n"
     ]
    }
   ],
   "source": [
    "print(item1.name)\n",
    "print(item1.price)\n",
    "print(item1.quantity)\n",
    "print(item2.name)\n",
    "print(item2.price)\n",
    "print(item2.quantity)"
   ]
  },
  {
   "cell_type": "markdown",
   "id": "5a7bf829",
   "metadata": {},
   "source": [
    "If we don't know how much we have from a specific item, then we can go ahead and by default received this quantity parameter as zero by doing -> "
   ]
  },
  {
   "cell_type": "code",
   "execution_count": 15,
   "id": "7a8c3fbf",
   "metadata": {},
   "outputs": [],
   "source": [
    "class Item:\n",
    "    def __init__(self,name,price,quantity=0):\n",
    "        self.name = name\n",
    "        self.price = price\n",
    "        self.quantity = quantity\n",
    "        \n",
    "    def calculate_total_price(self,x,y):\n",
    "        return x*y"
   ]
  },
  {
   "cell_type": "code",
   "execution_count": 16,
   "id": "2a8d557c",
   "metadata": {},
   "outputs": [],
   "source": [
    "item1 = Item(\"Phone\",100)\n",
    "item2 = Item(\"Laptob\",1000,3)"
   ]
  },
  {
   "cell_type": "code",
   "execution_count": 17,
   "id": "797a360c",
   "metadata": {},
   "outputs": [
    {
     "name": "stdout",
     "output_type": "stream",
     "text": [
      "Phone\n",
      "100\n",
      "0\n",
      "Laptob\n",
      "1000\n",
      "3\n"
     ]
    }
   ],
   "source": [
    "print(item1.name)\n",
    "print(item1.price)\n",
    "print(item1.quantity)\n",
    "print(item2.name)\n",
    "print(item2.price)\n",
    "print(item2.quantity)"
   ]
  },
  {
   "cell_type": "markdown",
   "id": "920c3e6b",
   "metadata": {},
   "source": [
    "If we want to know if the laptop has numpad or not. because some laptops are not having the numpad on the right side of the keyborad. But this is not a realistic attribute that we will want to assign to a phone. "
   ]
  },
  {
   "cell_type": "markdown",
   "id": "327c50a3",
   "metadata": {},
   "source": [
    "We also need to remembered that, attribute assignments in the constructor doesn't mean that we cannot add some more attributes that we like. For example:  "
   ]
  },
  {
   "cell_type": "code",
   "execution_count": 18,
   "id": "8701dfea",
   "metadata": {},
   "outputs": [],
   "source": [
    "item2.has_numpad = False"
   ]
  },
  {
   "cell_type": "code",
   "execution_count": 20,
   "id": "2b3a43f1",
   "metadata": {},
   "outputs": [
    {
     "data": {
      "text/plain": [
       "{'name': 'Phone', 'price': 100, 'quantity': 0}"
      ]
     },
     "execution_count": 20,
     "metadata": {},
     "output_type": "execute_result"
    }
   ],
   "source": [
    "item1.__dict__"
   ]
  },
  {
   "cell_type": "code",
   "execution_count": 21,
   "id": "50cf6c9c",
   "metadata": {},
   "outputs": [
    {
     "data": {
      "text/plain": [
       "{'name': 'Laptob', 'price': 1000, 'quantity': 3, 'has_numpad': False}"
      ]
     },
     "execution_count": 21,
     "metadata": {},
     "output_type": "execute_result"
    }
   ],
   "source": [
    "item2.__dict__"
   ]
  },
  {
   "cell_type": "markdown",
   "id": "feb327c0",
   "metadata": {},
   "source": [
    "For calculating total price we don't need to pass varibles because we have instance variable which created by object. So.. "
   ]
  },
  {
   "cell_type": "code",
   "execution_count": 40,
   "id": "4bd72d64",
   "metadata": {},
   "outputs": [],
   "source": [
    "class Item:\n",
    "    def __init__(self,name,price,quantity=0):\n",
    "        self.name = name\n",
    "        self.price = price\n",
    "        self.quantity = quantity\n",
    "        \n",
    "    def calculate_total_price(self):\n",
    "        return self.price*self.quantity"
   ]
  },
  {
   "cell_type": "code",
   "execution_count": 41,
   "id": "ffa5def7",
   "metadata": {},
   "outputs": [],
   "source": [
    "item1 = Item(\"Phone\",100,4)\n",
    "item2 = Item(\"Laptob\",1000,3)"
   ]
  },
  {
   "cell_type": "code",
   "execution_count": 42,
   "id": "efdee5e9",
   "metadata": {},
   "outputs": [
    {
     "name": "stdout",
     "output_type": "stream",
     "text": [
      "400\n",
      "3000\n"
     ]
    }
   ],
   "source": [
    "print(item1.calculate_total_price())\n",
    "print(item2.calculate_total_price())"
   ]
  },
  {
   "cell_type": "markdown",
   "id": "a348e52d",
   "metadata": {},
   "source": [
    "If we pass price as a string then"
   ]
  },
  {
   "cell_type": "code",
   "execution_count": 43,
   "id": "8943539d",
   "metadata": {},
   "outputs": [],
   "source": [
    "item1 = Item(\"Phone\",\"100\",4)\n",
    "item2 = Item(\"Laptob\",\"1000\",3)"
   ]
  },
  {
   "cell_type": "code",
   "execution_count": 44,
   "id": "625a5540",
   "metadata": {},
   "outputs": [
    {
     "name": "stdout",
     "output_type": "stream",
     "text": [
      "100100100100\n",
      "100010001000\n"
     ]
    }
   ],
   "source": [
    "print(item1.calculate_total_price())\n",
    "print(item2.calculate_total_price())"
   ]
  },
  {
   "cell_type": "markdown",
   "id": "cbacdec7",
   "metadata": {},
   "source": [
    "So we need to validate the datatypes of the values"
   ]
  },
  {
   "cell_type": "code",
   "execution_count": 45,
   "id": "16c7d820",
   "metadata": {},
   "outputs": [],
   "source": [
    "class Item:\n",
    "    def __init__(self,name:str,price:float,quantity=0): \n",
    "        self.name = name\n",
    "        self.price = price\n",
    "        self.quantity = quantity\n",
    "        \n",
    "    def calculate_total_price(self):\n",
    "        return self.price*self.quantity"
   ]
  },
  {
   "cell_type": "markdown",
   "id": "c01409a0",
   "metadata": {},
   "source": [
    "for the 'quantity', we don't need to specify a type because we passed a default value of integer already marked these parameter as to be integer always. So if we want to pass another datatype in this field then it will show an error because it just accept integer value "
   ]
  },
  {
   "cell_type": "markdown",
   "id": "f0ac7a7c",
   "metadata": {},
   "source": [
    "If we don't want to received negative value of price and quantity then we need to use assert statement"
   ]
  },
  {
   "cell_type": "code",
   "execution_count": 46,
   "id": "557f930f",
   "metadata": {},
   "outputs": [],
   "source": [
    "class Item:\n",
    "    def __init__(self,name:str,price:float,quantity=0): \n",
    "        # Run validations to the received arguments\n",
    "        assert price >=0\n",
    "        assert quantity >=0\n",
    "        \n",
    "        # Assign to self object\n",
    "        self.name = name\n",
    "        self.price = price\n",
    "        self.quantity = quantity\n",
    "        \n",
    "    def calculate_total_price(self):\n",
    "        return self.price*self.quantity"
   ]
  },
  {
   "cell_type": "code",
   "execution_count": 48,
   "id": "5ac3a817",
   "metadata": {},
   "outputs": [
    {
     "ename": "AssertionError",
     "evalue": "",
     "output_type": "error",
     "traceback": [
      "\u001b[1;31m---------------------------------------------------------------------------\u001b[0m",
      "\u001b[1;31mAssertionError\u001b[0m                            Traceback (most recent call last)",
      "\u001b[1;32m~\\AppData\\Local\\Temp/ipykernel_3332/614001621.py\u001b[0m in \u001b[0;36m<module>\u001b[1;34m\u001b[0m\n\u001b[1;32m----> 1\u001b[1;33m \u001b[0mitem1\u001b[0m \u001b[1;33m=\u001b[0m \u001b[0mItem\u001b[0m\u001b[1;33m(\u001b[0m\u001b[1;34m\"Phone\"\u001b[0m\u001b[1;33m,\u001b[0m\u001b[1;36m100\u001b[0m\u001b[1;33m,\u001b[0m\u001b[1;33m-\u001b[0m\u001b[1;36m1\u001b[0m\u001b[1;33m)\u001b[0m\u001b[1;33m\u001b[0m\u001b[1;33m\u001b[0m\u001b[0m\n\u001b[0m\u001b[0;32m      2\u001b[0m \u001b[0mitem2\u001b[0m \u001b[1;33m=\u001b[0m \u001b[0mItem\u001b[0m\u001b[1;33m(\u001b[0m\u001b[1;34m\"Laptob\"\u001b[0m\u001b[1;33m,\u001b[0m\u001b[1;36m1000\u001b[0m\u001b[1;33m,\u001b[0m\u001b[1;33m-\u001b[0m\u001b[1;36m3\u001b[0m\u001b[1;33m)\u001b[0m\u001b[1;33m\u001b[0m\u001b[1;33m\u001b[0m\u001b[0m\n",
      "\u001b[1;32m~\\AppData\\Local\\Temp/ipykernel_3332/1752061287.py\u001b[0m in \u001b[0;36m__init__\u001b[1;34m(self, name, price, quantity)\u001b[0m\n\u001b[0;32m      3\u001b[0m         \u001b[1;31m# Run validations to the received arguments\u001b[0m\u001b[1;33m\u001b[0m\u001b[1;33m\u001b[0m\u001b[1;33m\u001b[0m\u001b[0m\n\u001b[0;32m      4\u001b[0m         \u001b[1;32massert\u001b[0m \u001b[0mprice\u001b[0m \u001b[1;33m>=\u001b[0m\u001b[1;36m0\u001b[0m\u001b[1;33m\u001b[0m\u001b[1;33m\u001b[0m\u001b[0m\n\u001b[1;32m----> 5\u001b[1;33m         \u001b[1;32massert\u001b[0m \u001b[0mquantity\u001b[0m \u001b[1;33m>=\u001b[0m\u001b[1;36m0\u001b[0m\u001b[1;33m\u001b[0m\u001b[1;33m\u001b[0m\u001b[0m\n\u001b[0m\u001b[0;32m      6\u001b[0m \u001b[1;33m\u001b[0m\u001b[0m\n\u001b[0;32m      7\u001b[0m         \u001b[1;31m# Assign to self object\u001b[0m\u001b[1;33m\u001b[0m\u001b[1;33m\u001b[0m\u001b[1;33m\u001b[0m\u001b[0m\n",
      "\u001b[1;31mAssertionError\u001b[0m: "
     ]
    }
   ],
   "source": [
    "item1 = Item(\"Phone\",100,-1)\n",
    "item2 = Item(\"Laptob\",1000,-3)"
   ]
  },
  {
   "cell_type": "markdown",
   "id": "9c5f5fcd",
   "metadata": {},
   "source": [
    "See we got AssertionError. It is quite a general exception, that doesn't mean anything. But using assert we can add our own exception messages  "
   ]
  },
  {
   "cell_type": "code",
   "execution_count": 49,
   "id": "25f93b02",
   "metadata": {},
   "outputs": [],
   "source": [
    "class Item:\n",
    "    def __init__(self,name:str,price:float,quantity=0): \n",
    "        # Run validations to the received arguments\n",
    "        assert price >=0, f\"Price {price} is not greater than or equal to zero!\"\n",
    "        assert quantity >=0, f\"Quantity {quantity} is not greater than or equal to zero!\" \n",
    "        \n",
    "        # Assign to self object\n",
    "        self.name = name\n",
    "        self.price = price\n",
    "        self.quantity = quantity\n",
    "        \n",
    "    def calculate_total_price(self):\n",
    "        return self.price*self.quantity"
   ]
  },
  {
   "cell_type": "code",
   "execution_count": 52,
   "id": "4c804e04",
   "metadata": {},
   "outputs": [
    {
     "ename": "AssertionError",
     "evalue": "Quantity -1 is not greater than or equal to zero!",
     "output_type": "error",
     "traceback": [
      "\u001b[1;31m---------------------------------------------------------------------------\u001b[0m",
      "\u001b[1;31mAssertionError\u001b[0m                            Traceback (most recent call last)",
      "\u001b[1;32m~\\AppData\\Local\\Temp/ipykernel_3332/2674699295.py\u001b[0m in \u001b[0;36m<module>\u001b[1;34m\u001b[0m\n\u001b[1;32m----> 1\u001b[1;33m \u001b[0mitem1\u001b[0m \u001b[1;33m=\u001b[0m \u001b[0mItem\u001b[0m\u001b[1;33m(\u001b[0m\u001b[1;34m\"Phone\"\u001b[0m\u001b[1;33m,\u001b[0m\u001b[1;36m100\u001b[0m\u001b[1;33m,\u001b[0m\u001b[1;33m-\u001b[0m\u001b[1;36m1\u001b[0m\u001b[1;33m)\u001b[0m\u001b[1;33m\u001b[0m\u001b[1;33m\u001b[0m\u001b[0m\n\u001b[0m",
      "\u001b[1;32m~\\AppData\\Local\\Temp/ipykernel_3332/3516968069.py\u001b[0m in \u001b[0;36m__init__\u001b[1;34m(self, name, price, quantity)\u001b[0m\n\u001b[0;32m      3\u001b[0m         \u001b[1;31m# Run validations to the received arguments\u001b[0m\u001b[1;33m\u001b[0m\u001b[1;33m\u001b[0m\u001b[1;33m\u001b[0m\u001b[0m\n\u001b[0;32m      4\u001b[0m         \u001b[1;32massert\u001b[0m \u001b[0mprice\u001b[0m \u001b[1;33m>=\u001b[0m\u001b[1;36m0\u001b[0m\u001b[1;33m,\u001b[0m \u001b[1;34mf\"Price {price} is not greater than or equal to zero!\"\u001b[0m\u001b[1;33m\u001b[0m\u001b[1;33m\u001b[0m\u001b[0m\n\u001b[1;32m----> 5\u001b[1;33m         \u001b[1;32massert\u001b[0m \u001b[0mquantity\u001b[0m \u001b[1;33m>=\u001b[0m\u001b[1;36m0\u001b[0m\u001b[1;33m,\u001b[0m \u001b[1;34mf\"Quantity {quantity} is not greater than or equal to zero!\"\u001b[0m\u001b[1;33m\u001b[0m\u001b[1;33m\u001b[0m\u001b[0m\n\u001b[0m\u001b[0;32m      6\u001b[0m \u001b[1;33m\u001b[0m\u001b[0m\n\u001b[0;32m      7\u001b[0m         \u001b[1;31m# Assign to self object\u001b[0m\u001b[1;33m\u001b[0m\u001b[1;33m\u001b[0m\u001b[1;33m\u001b[0m\u001b[0m\n",
      "\u001b[1;31mAssertionError\u001b[0m: Quantity -1 is not greater than or equal to zero!"
     ]
    }
   ],
   "source": [
    "item1 = Item(\"Phone\",100,-1)"
   ]
  },
  {
   "cell_type": "markdown",
   "id": "60c9b6ba",
   "metadata": {},
   "source": [
    "Now we got error with meaning full message "
   ]
  },
  {
   "cell_type": "markdown",
   "id": "4d88bb83",
   "metadata": {},
   "source": [
    " A class attribute is an attribute that is going to be belong to the class itself. But however, we can also access this attribute from the instance level as well.    "
   ]
  },
  {
   "cell_type": "code",
   "execution_count": 53,
   "id": "090ac7d4",
   "metadata": {},
   "outputs": [],
   "source": [
    "class Item:\n",
    "    \n",
    "    pay_rate = 0.8 # The pay rate after 20% discount\n",
    "    \n",
    "    def __init__(self,name:str,price:float,quantity=0): \n",
    "        # Run validations to the received arguments\n",
    "        assert price >=0, f\"Price {price} is not greater than or equal to zero!\"\n",
    "        assert quantity >=0, f\"Quantity {quantity} is not greater than or equal to zero!\" \n",
    "        \n",
    "        # Assign to self object\n",
    "        self.name = name\n",
    "        self.price = price\n",
    "        self.quantity = quantity\n",
    "        \n",
    "    def calculate_total_price(self):\n",
    "        return self.price*self.quantity"
   ]
  },
  {
   "cell_type": "markdown",
   "id": "026cb220",
   "metadata": {},
   "source": [
    "Here pay_rate attribute is class variable / attribute "
   ]
  },
  {
   "cell_type": "code",
   "execution_count": 56,
   "id": "bef3189a",
   "metadata": {},
   "outputs": [],
   "source": [
    "item1 = Item(\"Phone\",100,4)\n",
    "item2 = Item(\"Laptop\",1000,3)"
   ]
  },
  {
   "cell_type": "code",
   "execution_count": 58,
   "id": "94076a2e",
   "metadata": {},
   "outputs": [
    {
     "name": "stdout",
     "output_type": "stream",
     "text": [
      "0.8\n",
      "0.8\n",
      "0.8\n"
     ]
    }
   ],
   "source": [
    "print(Item.pay_rate)\n",
    "print(item1.pay_rate)\n",
    "print(item2.pay_rate)"
   ]
  },
  {
   "cell_type": "markdown",
   "id": "dab25d7e",
   "metadata": {},
   "source": [
    "When we have an instance on our hand, then at first this instance tries to bring the attribute from the instance level at first stage, but if it doesn't find it there, then it is going to try to bring that attribute from the class level. "
   ]
  },
  {
   "cell_type": "code",
   "execution_count": 59,
   "id": "2c8ad11a",
   "metadata": {},
   "outputs": [],
   "source": [
    "class Item:\n",
    "    \n",
    "    pay_rate = 0.8 # The pay rate after 20% discount\n",
    "    \n",
    "    def __init__(self,name:str,price:float,quantity=0): \n",
    "        # Run validations to the received arguments\n",
    "        assert price >=0, f\"Price {price} is not greater than or equal to zero!\"\n",
    "        assert quantity >=0, f\"Quantity {quantity} is not greater than or equal to zero!\" \n",
    "        \n",
    "        # Assign to self object\n",
    "        self.name = name\n",
    "        self.price = price\n",
    "        self.quantity = quantity\n",
    "        \n",
    "    def calculate_total_price(self):\n",
    "        return self.price*self.quantity\n",
    "    \n",
    "    def apply_discount(self):\n",
    "        self.price = self.price*Item.pay_rate"
   ]
  },
  {
   "cell_type": "code",
   "execution_count": 60,
   "id": "990aa1f2",
   "metadata": {},
   "outputs": [
    {
     "name": "stdout",
     "output_type": "stream",
     "text": [
      "80.0\n"
     ]
    }
   ],
   "source": [
    "item1 = Item(\"Phone\",100,4)\n",
    "item1.apply_discount()\n",
    "print(item1.price)"
   ]
  },
  {
   "cell_type": "markdown",
   "id": "5d27c8f1",
   "metadata": {},
   "source": [
    "If we want to apply 30% discount for laptop then...."
   ]
  },
  {
   "cell_type": "code",
   "execution_count": 61,
   "id": "63255395",
   "metadata": {},
   "outputs": [
    {
     "name": "stdout",
     "output_type": "stream",
     "text": [
      "800.0\n"
     ]
    }
   ],
   "source": [
    "item2 = Item(\"Laptop\",1000,3)\n",
    "item2.pay_rate = 0.7\n",
    "item2.apply_discount()\n",
    "print(item2.price)"
   ]
  },
  {
   "cell_type": "markdown",
   "id": "f447df47",
   "metadata": {},
   "source": [
    "We expected 30% discount so our output would be 700.0 but our pay_rate initialization is not working. Because if we see our 'apply_discount()' method we see that we multiply 'pay_rate' amount from the class level. So a best practice here to override the pay_rate for the instance level. Then it will work..."
   ]
  },
  {
   "cell_type": "code",
   "execution_count": 62,
   "id": "887e224a",
   "metadata": {},
   "outputs": [],
   "source": [
    "class Item:\n",
    "    \n",
    "    pay_rate = 0.8 # The pay rate after 20% discount\n",
    "    \n",
    "    def __init__(self,name:str,price:float,quantity=0): \n",
    "        # Run validations to the received arguments\n",
    "        assert price >=0, f\"Price {price} is not greater than or equal to zero!\"\n",
    "        assert quantity >=0, f\"Quantity {quantity} is not greater than or equal to zero!\" \n",
    "        \n",
    "        # Assign to self object\n",
    "        self.name = name\n",
    "        self.price = price\n",
    "        self.quantity = quantity\n",
    "        \n",
    "    def calculate_total_price(self):\n",
    "        return self.price*self.quantity\n",
    "    \n",
    "    def apply_discount(self):\n",
    "        self.price = self.price* self.pay_rate"
   ]
  },
  {
   "cell_type": "code",
   "execution_count": 63,
   "id": "60aa2f10",
   "metadata": {},
   "outputs": [
    {
     "name": "stdout",
     "output_type": "stream",
     "text": [
      "80.0\n",
      "700.0\n"
     ]
    }
   ],
   "source": [
    "item1 = Item(\"Phone\",100,4)\n",
    "item1.apply_discount()\n",
    "print(item1.price)\n",
    "\n",
    "item2 = Item(\"Laptop\",1000,3)\n",
    "item2.pay_rate = 0.7\n",
    "item2.apply_discount()\n",
    "print(item2.price)"
   ]
  },
  {
   "cell_type": "markdown",
   "id": "6a346824",
   "metadata": {},
   "source": [
    "We don't have any resourse where we can just access all the items that we have in our shop right now. for this we need to make a list named 'all' and add all the items information into it. How?? ....See below the section..."
   ]
  },
  {
   "cell_type": "code",
   "execution_count": 64,
   "id": "1b9fdf56",
   "metadata": {},
   "outputs": [],
   "source": [
    "class Item:\n",
    "    \n",
    "    pay_rate = 0.8 # The pay rate after 20% discount\n",
    "    all = []\n",
    "    \n",
    "    def __init__(self,name:str,price:float,quantity=0): \n",
    "        # Run validations to the received arguments\n",
    "        assert price >=0, f\"Price {price} is not greater than or equal to zero!\"\n",
    "        assert quantity >=0, f\"Quantity {quantity} is not greater than or equal to zero!\" \n",
    "        \n",
    "        # Assign to self object\n",
    "        self.name = name\n",
    "        self.price = price\n",
    "        self.quantity = quantity\n",
    "        \n",
    "        # Actions to execute\n",
    "        Item.all.append(self)\n",
    "        \n",
    "    def calculate_total_price(self):\n",
    "        return self.price*self.quantity\n",
    "    \n",
    "    def apply_discount(self):\n",
    "        self.price = self.price* self.pay_rate"
   ]
  },
  {
   "cell_type": "code",
   "execution_count": 65,
   "id": "826e3e48",
   "metadata": {},
   "outputs": [],
   "source": [
    "item1 = Item(\"Phone\",100,1)\n",
    "item2 = Item(\"Laptop\",1000,3)\n",
    "item3 = Item(\"Cable\",10,5)\n",
    "item4 = Item(\"Mouse\",50,5)\n",
    "item5 = Item(\"Keyboard\",75,5)"
   ]
  },
  {
   "cell_type": "code",
   "execution_count": 66,
   "id": "c92e9d5b",
   "metadata": {},
   "outputs": [
    {
     "name": "stdout",
     "output_type": "stream",
     "text": [
      "[<__main__.Item object at 0x0000026720A82D60>, <__main__.Item object at 0x0000026720A825B0>, <__main__.Item object at 0x0000026720A826A0>, <__main__.Item object at 0x0000026720B90580>, <__main__.Item object at 0x0000026720B901F0>]\n"
     ]
    }
   ],
   "source": [
    "print(Item.all)"
   ]
  },
  {
   "cell_type": "markdown",
   "id": "480a88bd",
   "metadata": {},
   "source": [
    "We see that 5 instance object is created in the list. But the way that the object is being represented is not too friendly. If we use a magic method names '__repr__'(representing your object) than it will help to display our objects. For example"
   ]
  },
  {
   "cell_type": "code",
   "execution_count": 68,
   "id": "dec5c48d",
   "metadata": {},
   "outputs": [],
   "source": [
    "class Item:\n",
    "    \n",
    "    pay_rate = 0.8 # The pay rate after 20% discount\n",
    "    all = []\n",
    "    \n",
    "    def __init__(self,name:str,price:float,quantity=0): \n",
    "        # Run validations to the received arguments\n",
    "        assert price >=0, f\"Price {price} is not greater than or equal to zero!\"\n",
    "        assert quantity >=0, f\"Quantity {quantity} is not greater than or equal to zero!\" \n",
    "        \n",
    "        # Assign to self object\n",
    "        self.name = name\n",
    "        self.price = price\n",
    "        self.quantity = quantity\n",
    "        \n",
    "        # Actions to execute\n",
    "        Item.all.append(self)\n",
    "        \n",
    "    def calculate_total_price(self):\n",
    "        return self.price*self.quantity\n",
    "    \n",
    "    def apply_discount(self):\n",
    "        self.price = self.price* self.pay_rate\n",
    "        \n",
    "    def __repr__(self):\n",
    "        return \"Item\""
   ]
  },
  {
   "cell_type": "code",
   "execution_count": 69,
   "id": "0ac545d3",
   "metadata": {},
   "outputs": [
    {
     "name": "stdout",
     "output_type": "stream",
     "text": [
      "[Item, Item, Item, Item, Item]\n"
     ]
    }
   ],
   "source": [
    "item1 = Item(\"Phone\",100,1)\n",
    "item2 = Item(\"Laptop\",1000,3)\n",
    "item3 = Item(\"Cable\",10,5)\n",
    "item4 = Item(\"Mouse\",50,5)\n",
    "item5 = Item(\"Keyboard\",75,5)\n",
    "print(Item.all)"
   ]
  },
  {
   "cell_type": "markdown",
   "id": "47e86349",
   "metadata": {},
   "source": [
    "We still confuse which instance represents each string here. If we want to represent the items the way we initialize them, then..."
   ]
  },
  {
   "cell_type": "code",
   "execution_count": 70,
   "id": "26f05635",
   "metadata": {},
   "outputs": [],
   "source": [
    "class Item:\n",
    "    \n",
    "    pay_rate = 0.8 # The pay rate after 20% discount\n",
    "    all = []\n",
    "    \n",
    "    def __init__(self,name:str,price:float,quantity=0): \n",
    "        # Run validations to the received arguments\n",
    "        assert price >=0, f\"Price {price} is not greater than or equal to zero!\"\n",
    "        assert quantity >=0, f\"Quantity {quantity} is not greater than or equal to zero!\" \n",
    "        \n",
    "        # Assign to self object\n",
    "        self.name = name\n",
    "        self.price = price\n",
    "        self.quantity = quantity\n",
    "        \n",
    "        # Actions to execute\n",
    "        Item.all.append(self)\n",
    "        \n",
    "    def calculate_total_price(self):\n",
    "        return self.price*self.quantity\n",
    "    \n",
    "    def apply_discount(self):\n",
    "        self.price = self.price* self.pay_rate\n",
    "        \n",
    "    def __repr__(self):\n",
    "        return f\"Item('{self.name}',{self.price},{self.quantity})\""
   ]
  },
  {
   "cell_type": "code",
   "execution_count": 71,
   "id": "3932a43e",
   "metadata": {},
   "outputs": [
    {
     "name": "stdout",
     "output_type": "stream",
     "text": [
      "[Item('Phone',100,1), Item('Laptop',1000,3), Item('Cable',10,5), Item('Mouse',50,5), Item('Keyboard',75,5)]\n"
     ]
    }
   ],
   "source": [
    "item1 = Item(\"Phone\",100,1)\n",
    "item2 = Item(\"Laptop\",1000,3)\n",
    "item3 = Item(\"Cable\",10,5)\n",
    "item4 = Item(\"Mouse\",50,5)\n",
    "item5 = Item(\"Keyboard\",75,5)\n",
    "print(Item.all)"
   ]
  },
  {
   "cell_type": "markdown",
   "id": "97e56c35",
   "metadata": {},
   "source": [
    "If we want to print all the names for all of our instances then,  "
   ]
  },
  {
   "cell_type": "code",
   "execution_count": 72,
   "id": "1596433f",
   "metadata": {},
   "outputs": [
    {
     "name": "stdout",
     "output_type": "stream",
     "text": [
      "Phone\n",
      "Laptop\n",
      "Cable\n",
      "Mouse\n",
      "Keyboard\n"
     ]
    }
   ],
   "source": [
    "for instance in Item.all:\n",
    "    print(instance.name)"
   ]
  },
  {
   "cell_type": "code",
   "execution_count": null,
   "id": "e43d6c4b",
   "metadata": {},
   "outputs": [],
   "source": []
  }
 ],
 "metadata": {
  "kernelspec": {
   "display_name": "Python 3 (ipykernel)",
   "language": "python",
   "name": "python3"
  },
  "language_info": {
   "codemirror_mode": {
    "name": "ipython",
    "version": 3
   },
   "file_extension": ".py",
   "mimetype": "text/x-python",
   "name": "python",
   "nbconvert_exporter": "python",
   "pygments_lexer": "ipython3",
   "version": "3.9.6"
  }
 },
 "nbformat": 4,
 "nbformat_minor": 5
}
