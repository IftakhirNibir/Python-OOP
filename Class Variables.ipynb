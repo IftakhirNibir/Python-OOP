{
 "cells": [
  {
   "cell_type": "markdown",
   "id": "bd2ac0e3",
   "metadata": {},
   "source": [
    "### Class Variables<br>\n",
    "Class Variables are variables that are shared among all instances of a class. While instance variables can be unique for each instance like our names, email, payment. Class variables should be the same for each instance      "
   ]
  },
  {
   "cell_type": "code",
   "execution_count": 7,
   "id": "9f6ed988",
   "metadata": {},
   "outputs": [],
   "source": [
    "class Employee:\n",
    "    def __init__(self,fname,lname,payt):\n",
    "        self.firstName = fname\n",
    "        self.lastName = lname\n",
    "        self.email = fname + lname + '@gmail.com'\n",
    "        self.payment = payt\n",
    "        \n",
    "    def fullName(self):\n",
    "        return f\"{self.firstName} {self.lastName}\"\n",
    "    \n",
    "    def apply_raise(self):\n",
    "        self.payment = int(self.payment * 1.04)"
   ]
  },
  {
   "cell_type": "code",
   "execution_count": 10,
   "id": "2e81afa4",
   "metadata": {},
   "outputs": [],
   "source": [
    "emp1 = Employee('Asif','Adnan',50000)\n",
    "emp2 = Employee('Test','User',60000)"
   ]
  },
  {
   "cell_type": "code",
   "execution_count": 11,
   "id": "8567abca",
   "metadata": {},
   "outputs": [
    {
     "data": {
      "text/plain": [
       "50000"
      ]
     },
     "execution_count": 11,
     "metadata": {},
     "output_type": "execute_result"
    }
   ],
   "source": [
    "emp1.payment"
   ]
  },
  {
   "cell_type": "code",
   "execution_count": 12,
   "id": "4632a1ec",
   "metadata": {},
   "outputs": [],
   "source": [
    "emp1.apply_raise()"
   ]
  },
  {
   "cell_type": "code",
   "execution_count": 13,
   "id": "8cdbc155",
   "metadata": {},
   "outputs": [
    {
     "data": {
      "text/plain": [
       "52000"
      ]
     },
     "execution_count": 13,
     "metadata": {},
     "output_type": "execute_result"
    }
   ],
   "source": [
    "emp1.payment"
   ]
  },
  {
   "cell_type": "markdown",
   "id": "d894d738",
   "metadata": {},
   "source": [
    "### Another way"
   ]
  },
  {
   "cell_type": "code",
   "execution_count": 26,
   "id": "0faff768",
   "metadata": {},
   "outputs": [],
   "source": [
    "class Employee:\n",
    "    \n",
    "    raise_amount = 1.04\n",
    "    \n",
    "    def __init__(self,fname,lname,payt):\n",
    "        self.firstName = fname\n",
    "        self.lastName = lname\n",
    "        self.email = fname + lname + '@gmail.com'\n",
    "        self.payment = payt\n",
    "        \n",
    "    def fullName(self):\n",
    "        return f\"{self.firstName} {self.lastName}\"\n",
    "    \n",
    "    def apply_raise(self):\n",
    "        self.payment = int(self.payment * raise_amount) #Sometimes it shows error because\n",
    "#when we access this class variables we need to either access them through the class itself\n",
    "#     def apply_raise(self):\n",
    "#         self.payment = int(self.payment * Employee.raise_amount)\n",
    "#or an instance of the class \n",
    "#     def apply_raise(self):\n",
    "#         self.payment = int(self.payment * self.raise_amount)"
   ]
  },
  {
   "cell_type": "code",
   "execution_count": 27,
   "id": "8e2ae8e5",
   "metadata": {},
   "outputs": [
    {
     "data": {
      "text/plain": [
       "58492"
      ]
     },
     "execution_count": 27,
     "metadata": {},
     "output_type": "execute_result"
    }
   ],
   "source": [
    "emp1.payment"
   ]
  },
  {
   "cell_type": "code",
   "execution_count": 28,
   "id": "06ef0fed",
   "metadata": {},
   "outputs": [],
   "source": [
    "emp1.apply_raise()"
   ]
  },
  {
   "cell_type": "code",
   "execution_count": 29,
   "id": "630217a9",
   "metadata": {},
   "outputs": [
    {
     "data": {
      "text/plain": [
       "60831"
      ]
     },
     "execution_count": 29,
     "metadata": {},
     "output_type": "execute_result"
    }
   ],
   "source": [
    "emp1.payment"
   ]
  },
  {
   "cell_type": "code",
   "execution_count": 30,
   "id": "8d5644ba",
   "metadata": {},
   "outputs": [
    {
     "data": {
      "text/plain": [
       "{'firstName': 'Asif',\n",
       " 'lastName': 'Adnan',\n",
       " 'email': 'AsifAdnan@gmail.com',\n",
       " 'payment': 60831}"
      ]
     },
     "execution_count": 30,
     "metadata": {},
     "output_type": "execute_result"
    }
   ],
   "source": [
    "emp1.__dict__"
   ]
  },
  {
   "cell_type": "code",
   "execution_count": 31,
   "id": "7313681e",
   "metadata": {},
   "outputs": [
    {
     "data": {
      "text/plain": [
       "mappingproxy({'__module__': '__main__',\n",
       "              'raise_amount': 1.04,\n",
       "              '__init__': <function __main__.Employee.__init__(self, fname, lname, payt)>,\n",
       "              'fullName': <function __main__.Employee.fullName(self)>,\n",
       "              'apply_raise': <function __main__.Employee.apply_raise(self)>,\n",
       "              '__dict__': <attribute '__dict__' of 'Employee' objects>,\n",
       "              '__weakref__': <attribute '__weakref__' of 'Employee' objects>,\n",
       "              '__doc__': None})"
      ]
     },
     "execution_count": 31,
     "metadata": {},
     "output_type": "execute_result"
    }
   ],
   "source": [
    "Employee.__dict__"
   ]
  },
  {
   "cell_type": "markdown",
   "id": "e26185d1",
   "metadata": {},
   "source": [
    "We can see that the class does contain this 'raise amount' attribute"
   ]
  },
  {
   "cell_type": "code",
   "execution_count": 34,
   "id": "cbb91c98",
   "metadata": {},
   "outputs": [
    {
     "data": {
      "text/plain": [
       "1.04"
      ]
     },
     "execution_count": 34,
     "metadata": {},
     "output_type": "execute_result"
    }
   ],
   "source": [
    "Employee.raise_amount"
   ]
  },
  {
   "cell_type": "code",
   "execution_count": 35,
   "id": "cc1bcecb",
   "metadata": {},
   "outputs": [
    {
     "data": {
      "text/plain": [
       "{'firstName': 'Asif',\n",
       " 'lastName': 'Adnan',\n",
       " 'email': 'AsifAdnan@gmail.com',\n",
       " 'payment': 60831,\n",
       " 'raise_amount': 1.05}"
      ]
     },
     "execution_count": 35,
     "metadata": {},
     "output_type": "execute_result"
    }
   ],
   "source": [
    "emp1.raise_amount = 1.05\n",
    "emp1.__dict__"
   ]
  },
  {
   "cell_type": "code",
   "execution_count": 36,
   "id": "3353d862",
   "metadata": {},
   "outputs": [
    {
     "data": {
      "text/plain": [
       "1.04"
      ]
     },
     "execution_count": 36,
     "metadata": {},
     "output_type": "execute_result"
    }
   ],
   "source": [
    "Employee.raise_amount"
   ]
  },
  {
   "cell_type": "markdown",
   "id": "f30d7e54",
   "metadata": {},
   "source": [
    "So the value is changed for a particular instances "
   ]
  },
  {
   "cell_type": "markdown",
   "id": "d2217fe7",
   "metadata": {},
   "source": [
    "Now we will create another class variable for count the number of employees  "
   ]
  },
  {
   "cell_type": "code",
   "execution_count": 40,
   "id": "ec4c26e1",
   "metadata": {},
   "outputs": [],
   "source": [
    "class Employee:\n",
    "    \n",
    "    num_of_emps = 0 #class variable\n",
    "    raise_amount = 1.04 #class variable\n",
    "    \n",
    "    def __init__(self,fname,lname,payt):\n",
    "        self.firstName = fname\n",
    "        self.lastName = lname\n",
    "        self.email = fname + lname + '@gmail.com'\n",
    "        self.payment = payt\n",
    "        Employee.num_of_emps +=1 #since the init method runs everytime we create new employee \n",
    "        #because we don't need total number of employees to be different for any one instance so \n",
    "        #we don't use 'self' here\n",
    "          \n",
    "    def fullName(self):\n",
    "        return f\"{self.firstName} {self.lastName}\"\n",
    "    \n",
    "    def apply_raise(self):\n",
    "        self.payment = int(self.payment * raise_amount) "
   ]
  },
  {
   "cell_type": "code",
   "execution_count": 41,
   "id": "7ee8ea8c",
   "metadata": {},
   "outputs": [
    {
     "data": {
      "text/plain": [
       "0"
      ]
     },
     "execution_count": 41,
     "metadata": {},
     "output_type": "execute_result"
    }
   ],
   "source": [
    "Employee.num_of_emps"
   ]
  },
  {
   "cell_type": "code",
   "execution_count": 42,
   "id": "2a076c1c",
   "metadata": {},
   "outputs": [],
   "source": [
    "emp1 = Employee('Asif','Adnan',50000)\n",
    "emp2 = Employee('Test','User',60000)"
   ]
  },
  {
   "cell_type": "code",
   "execution_count": 43,
   "id": "d71b6945",
   "metadata": {},
   "outputs": [
    {
     "data": {
      "text/plain": [
       "2"
      ]
     },
     "execution_count": 43,
     "metadata": {},
     "output_type": "execute_result"
    }
   ],
   "source": [
    "Employee.num_of_emps"
   ]
  },
  {
   "cell_type": "code",
   "execution_count": null,
   "id": "a568f875",
   "metadata": {},
   "outputs": [],
   "source": []
  }
 ],
 "metadata": {
  "kernelspec": {
   "display_name": "Python 3 (ipykernel)",
   "language": "python",
   "name": "python3"
  },
  "language_info": {
   "codemirror_mode": {
    "name": "ipython",
    "version": 3
   },
   "file_extension": ".py",
   "mimetype": "text/x-python",
   "name": "python",
   "nbconvert_exporter": "python",
   "pygments_lexer": "ipython3",
   "version": "3.9.6"
  }
 },
 "nbformat": 4,
 "nbformat_minor": 5
}
