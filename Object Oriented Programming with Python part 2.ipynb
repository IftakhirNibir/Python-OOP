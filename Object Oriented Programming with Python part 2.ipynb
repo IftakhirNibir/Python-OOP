{
 "cells": [
  {
   "cell_type": "markdown",
   "id": "3e99088b",
   "metadata": {},
   "source": [
    "Now we are not add items by called init method. We store our data in the CSV file then we call the CSV file from our Class."
   ]
  },
  {
   "cell_type": "code",
   "execution_count": 47,
   "id": "4769f3c9",
   "metadata": {},
   "outputs": [
    {
     "data": {
      "text/html": [
       "<div>\n",
       "<style scoped>\n",
       "    .dataframe tbody tr th:only-of-type {\n",
       "        vertical-align: middle;\n",
       "    }\n",
       "\n",
       "    .dataframe tbody tr th {\n",
       "        vertical-align: top;\n",
       "    }\n",
       "\n",
       "    .dataframe thead th {\n",
       "        text-align: right;\n",
       "    }\n",
       "</style>\n",
       "<table border=\"1\" class=\"dataframe\">\n",
       "  <thead>\n",
       "    <tr style=\"text-align: right;\">\n",
       "      <th></th>\n",
       "      <th>name</th>\n",
       "      <th>price</th>\n",
       "      <th>quantity</th>\n",
       "    </tr>\n",
       "  </thead>\n",
       "  <tbody>\n",
       "    <tr>\n",
       "      <th>0</th>\n",
       "      <td>Phone</td>\n",
       "      <td>100.00</td>\n",
       "      <td>1</td>\n",
       "    </tr>\n",
       "    <tr>\n",
       "      <th>1</th>\n",
       "      <td>Laptop</td>\n",
       "      <td>1000.00</td>\n",
       "      <td>3</td>\n",
       "    </tr>\n",
       "    <tr>\n",
       "      <th>2</th>\n",
       "      <td>Cable</td>\n",
       "      <td>10.45</td>\n",
       "      <td>5</td>\n",
       "    </tr>\n",
       "    <tr>\n",
       "      <th>3</th>\n",
       "      <td>Mouse</td>\n",
       "      <td>50.05</td>\n",
       "      <td>5</td>\n",
       "    </tr>\n",
       "    <tr>\n",
       "      <th>4</th>\n",
       "      <td>Keyboard</td>\n",
       "      <td>75.00</td>\n",
       "      <td>5</td>\n",
       "    </tr>\n",
       "    <tr>\n",
       "      <th>5</th>\n",
       "      <td>Cap</td>\n",
       "      <td>5.00</td>\n",
       "      <td>2</td>\n",
       "    </tr>\n",
       "  </tbody>\n",
       "</table>\n",
       "</div>"
      ],
      "text/plain": [
       "       name    price  quantity\n",
       "0     Phone   100.00         1\n",
       "1    Laptop  1000.00         3\n",
       "2     Cable    10.45         5\n",
       "3     Mouse    50.05         5\n",
       "4  Keyboard    75.00         5\n",
       "5       Cap     5.00         2"
      ]
     },
     "execution_count": 47,
     "metadata": {},
     "output_type": "execute_result"
    }
   ],
   "source": [
    "import pandas as pd\n",
    "\n",
    "df = pd.read_csv('products.csv')\n",
    "\n",
    "df"
   ]
  },
  {
   "cell_type": "markdown",
   "id": "2d13828d",
   "metadata": {},
   "source": [
    "Our CSV files contain these data. "
   ]
  },
  {
   "cell_type": "code",
   "execution_count": 21,
   "id": "4c8908be",
   "metadata": {},
   "outputs": [],
   "source": [
    "import csv #To read the csv file"
   ]
  },
  {
   "cell_type": "code",
   "execution_count": 22,
   "id": "06c9f58b",
   "metadata": {},
   "outputs": [],
   "source": [
    "class Item:\n",
    "    \n",
    "    pay_rate = 0.8 # The pay rate after 20% discount\n",
    "    all = []\n",
    "    \n",
    "    def __init__(self,name:str,price:float,quantity=0): \n",
    "        # Run validations to the received arguments\n",
    "        assert price >=0, f\"Price {price} is not greater than or equal to zero!\"\n",
    "        assert quantity >=0, f\"Quantity {quantity} is not greater than or equal to zero!\" \n",
    "        \n",
    "        # Assign to self object\n",
    "        self.name = name\n",
    "        self.price = price\n",
    "        self.quantity = quantity\n",
    "        \n",
    "        # Actions to execute\n",
    "        Item.all.append(self)\n",
    "        \n",
    "    def calculate_total_price(self):\n",
    "        return self.price*self.quantity\n",
    "    \n",
    "    def apply_discount(self):\n",
    "        self.price = self.price* self.pay_rate\n",
    "    \n",
    "    @classmethod\n",
    "    def instantiate_from_csv(cls):\n",
    "        with open('products.csv','r') as f:\n",
    "            reader = csv.DictReader(f) #read content as a list of dictionary\n",
    "            items = list(reader) #convert them as a list\n",
    "            \n",
    "        for item in items:\n",
    "            print(item)\n",
    "            \n",
    "    def __repr__(self):\n",
    "        return f\"Item('{self.name}',{self.price},{self.quantity})\""
   ]
  },
  {
   "cell_type": "markdown",
   "id": "f3956d50",
   "metadata": {},
   "source": [
    "To read CSV file we need to use a class method. To convert class method we need to add decorators. Decorators in python is just a quick way to change the behavior of the function. In this way the class reference must be passed as a first argument. "
   ]
  },
  {
   "cell_type": "code",
   "execution_count": 24,
   "id": "172a3379",
   "metadata": {},
   "outputs": [
    {
     "name": "stdout",
     "output_type": "stream",
     "text": [
      "{'name': 'Phone', 'price': '100', 'quantity': '1'}\n",
      "{'name': 'Laptop', 'price': '1000', 'quantity': '3'}\n",
      "{'name': 'Cable', 'price': '10', 'quantity': '5'}\n",
      "{'name': 'Mouse', 'price': '50', 'quantity': '5'}\n",
      "{'name': 'Keyboard', 'price': '75', 'quantity': '5'}\n",
      "{'name': 'Cap', 'price': '5', 'quantity': '2'}\n"
     ]
    }
   ],
   "source": [
    "Item.instantiate_from_csv()"
   ]
  },
  {
   "cell_type": "markdown",
   "id": "dfdfffc1",
   "metadata": {},
   "source": [
    "This method take full responsibility to instantiate those object for us. "
   ]
  },
  {
   "cell_type": "code",
   "execution_count": 25,
   "id": "5f9c2505",
   "metadata": {},
   "outputs": [],
   "source": [
    "class Item:\n",
    "    \n",
    "    pay_rate = 0.8 # The pay rate after 20% discount\n",
    "    all = []\n",
    "    \n",
    "    def __init__(self,name:str,price:float,quantity=0): \n",
    "        # Run validations to the received arguments\n",
    "        assert price >=0, f\"Price {price} is not greater than or equal to zero!\"\n",
    "        assert quantity >=0, f\"Quantity {quantity} is not greater than or equal to zero!\" \n",
    "        \n",
    "        # Assign to self object\n",
    "        self.name = name\n",
    "        self.price = price\n",
    "        self.quantity = quantity\n",
    "        \n",
    "        # Actions to execute\n",
    "        Item.all.append(self)\n",
    "        \n",
    "    def calculate_total_price(self):\n",
    "        return self.price*self.quantity\n",
    "    \n",
    "    def apply_discount(self):\n",
    "        self.price = self.price* self.pay_rate\n",
    "    \n",
    "    @classmethod\n",
    "    def instantiate_from_csv(cls):\n",
    "        with open('products.csv','r') as f:\n",
    "            reader = csv.DictReader(f) #read content as a list of dictionary\n",
    "            items = list(reader) #convert them as a list\n",
    "            \n",
    "        for item in items:\n",
    "            Item(\n",
    "                name=item.get('name'),\n",
    "                price=item.get('price'),\n",
    "                quantity=item.get('quantity'),\n",
    "            )\n",
    "            \n",
    "    def __repr__(self):\n",
    "        return f\"Item('{self.name}',{self.price},{self.quantity})\""
   ]
  },
  {
   "cell_type": "code",
   "execution_count": 26,
   "id": "5e10245b",
   "metadata": {},
   "outputs": [
    {
     "ename": "TypeError",
     "evalue": "'>=' not supported between instances of 'str' and 'int'",
     "output_type": "error",
     "traceback": [
      "\u001b[1;31m---------------------------------------------------------------------------\u001b[0m",
      "\u001b[1;31mTypeError\u001b[0m                                 Traceback (most recent call last)",
      "\u001b[1;32m~\\AppData\\Local\\Temp/ipykernel_12696/1402888928.py\u001b[0m in \u001b[0;36m<module>\u001b[1;34m\u001b[0m\n\u001b[1;32m----> 1\u001b[1;33m \u001b[0mItem\u001b[0m\u001b[1;33m.\u001b[0m\u001b[0minstantiate_from_csv\u001b[0m\u001b[1;33m(\u001b[0m\u001b[1;33m)\u001b[0m\u001b[1;33m\u001b[0m\u001b[1;33m\u001b[0m\u001b[0m\n\u001b[0m\u001b[0;32m      2\u001b[0m \u001b[0mprint\u001b[0m\u001b[1;33m(\u001b[0m\u001b[0mItem\u001b[0m\u001b[1;33m.\u001b[0m\u001b[0mall\u001b[0m\u001b[1;33m)\u001b[0m\u001b[1;33m\u001b[0m\u001b[1;33m\u001b[0m\u001b[0m\n",
      "\u001b[1;32m~\\AppData\\Local\\Temp/ipykernel_12696/861535523.py\u001b[0m in \u001b[0;36minstantiate_from_csv\u001b[1;34m(cls)\u001b[0m\n\u001b[0;32m     30\u001b[0m \u001b[1;33m\u001b[0m\u001b[0m\n\u001b[0;32m     31\u001b[0m         \u001b[1;32mfor\u001b[0m \u001b[0mitem\u001b[0m \u001b[1;32min\u001b[0m \u001b[0mitems\u001b[0m\u001b[1;33m:\u001b[0m\u001b[1;33m\u001b[0m\u001b[1;33m\u001b[0m\u001b[0m\n\u001b[1;32m---> 32\u001b[1;33m             Item(\n\u001b[0m\u001b[0;32m     33\u001b[0m                 \u001b[0mname\u001b[0m\u001b[1;33m=\u001b[0m\u001b[0mitem\u001b[0m\u001b[1;33m.\u001b[0m\u001b[0mget\u001b[0m\u001b[1;33m(\u001b[0m\u001b[1;34m'name'\u001b[0m\u001b[1;33m)\u001b[0m\u001b[1;33m,\u001b[0m\u001b[1;33m\u001b[0m\u001b[1;33m\u001b[0m\u001b[0m\n\u001b[0;32m     34\u001b[0m                 \u001b[0mprice\u001b[0m\u001b[1;33m=\u001b[0m\u001b[0mitem\u001b[0m\u001b[1;33m.\u001b[0m\u001b[0mget\u001b[0m\u001b[1;33m(\u001b[0m\u001b[1;34m'price'\u001b[0m\u001b[1;33m)\u001b[0m\u001b[1;33m,\u001b[0m\u001b[1;33m\u001b[0m\u001b[1;33m\u001b[0m\u001b[0m\n",
      "\u001b[1;32m~\\AppData\\Local\\Temp/ipykernel_12696/861535523.py\u001b[0m in \u001b[0;36m__init__\u001b[1;34m(self, name, price, quantity)\u001b[0m\n\u001b[0;32m      6\u001b[0m     \u001b[1;32mdef\u001b[0m \u001b[0m__init__\u001b[0m\u001b[1;33m(\u001b[0m\u001b[0mself\u001b[0m\u001b[1;33m,\u001b[0m\u001b[0mname\u001b[0m\u001b[1;33m:\u001b[0m\u001b[0mstr\u001b[0m\u001b[1;33m,\u001b[0m\u001b[0mprice\u001b[0m\u001b[1;33m:\u001b[0m\u001b[0mfloat\u001b[0m\u001b[1;33m,\u001b[0m\u001b[0mquantity\u001b[0m\u001b[1;33m=\u001b[0m\u001b[1;36m0\u001b[0m\u001b[1;33m)\u001b[0m\u001b[1;33m:\u001b[0m\u001b[1;33m\u001b[0m\u001b[1;33m\u001b[0m\u001b[0m\n\u001b[0;32m      7\u001b[0m         \u001b[1;31m# Run validations to the received arguments\u001b[0m\u001b[1;33m\u001b[0m\u001b[1;33m\u001b[0m\u001b[1;33m\u001b[0m\u001b[0m\n\u001b[1;32m----> 8\u001b[1;33m         \u001b[1;32massert\u001b[0m \u001b[0mprice\u001b[0m \u001b[1;33m>=\u001b[0m\u001b[1;36m0\u001b[0m\u001b[1;33m,\u001b[0m \u001b[1;34mf\"Price {price} is not greater than or equal to zero!\"\u001b[0m\u001b[1;33m\u001b[0m\u001b[1;33m\u001b[0m\u001b[0m\n\u001b[0m\u001b[0;32m      9\u001b[0m         \u001b[1;32massert\u001b[0m \u001b[0mquantity\u001b[0m \u001b[1;33m>=\u001b[0m\u001b[1;36m0\u001b[0m\u001b[1;33m,\u001b[0m \u001b[1;34mf\"Quantity {quantity} is not greater than or equal to zero!\"\u001b[0m\u001b[1;33m\u001b[0m\u001b[1;33m\u001b[0m\u001b[0m\n\u001b[0;32m     10\u001b[0m \u001b[1;33m\u001b[0m\u001b[0m\n",
      "\u001b[1;31mTypeError\u001b[0m: '>=' not supported between instances of 'str' and 'int'"
     ]
    }
   ],
   "source": [
    "Item.instantiate_from_csv()\n",
    "print(Item.all)"
   ]
  },
  {
   "cell_type": "markdown",
   "id": "3c1dc639",
   "metadata": {},
   "source": [
    "Here the main problem is that the data takes from CSV file as a str. So we need to convert price and quantity's datatype."
   ]
  },
  {
   "cell_type": "code",
   "execution_count": 27,
   "id": "82000527",
   "metadata": {},
   "outputs": [],
   "source": [
    "class Item:\n",
    "    \n",
    "    pay_rate = 0.8 # The pay rate after 20% discount\n",
    "    all = []\n",
    "    \n",
    "    def __init__(self,name:str,price:float,quantity=0): \n",
    "        # Run validations to the received arguments\n",
    "        assert price >=0, f\"Price {price} is not greater than or equal to zero!\"\n",
    "        assert quantity >=0, f\"Quantity {quantity} is not greater than or equal to zero!\" \n",
    "        \n",
    "        # Assign to self object\n",
    "        self.name = name\n",
    "        self.price = price\n",
    "        self.quantity = quantity\n",
    "        \n",
    "        # Actions to execute\n",
    "        Item.all.append(self)\n",
    "        \n",
    "    def calculate_total_price(self):\n",
    "        return self.price*self.quantity\n",
    "    \n",
    "    def apply_discount(self):\n",
    "        self.price = self.price* self.pay_rate\n",
    "    \n",
    "    @classmethod\n",
    "    def instantiate_from_csv(cls):\n",
    "        with open('products.csv','r') as f:\n",
    "            reader = csv.DictReader(f) #read content as a list of dictionary\n",
    "            items = list(reader) #convert them as a list\n",
    "            \n",
    "        for item in items:\n",
    "            Item(\n",
    "                name=item.get('name'),\n",
    "                price=float(item.get('price')),\n",
    "                quantity=int(item.get('quantity')),\n",
    "            )\n",
    "            \n",
    "    def __repr__(self):\n",
    "        return f\"Item('{self.name}',{self.price},{self.quantity})\""
   ]
  },
  {
   "cell_type": "code",
   "execution_count": 28,
   "id": "489de690",
   "metadata": {},
   "outputs": [
    {
     "name": "stdout",
     "output_type": "stream",
     "text": [
      "[Item('Phone',100.0,1), Item('Laptop',1000.0,3), Item('Cable',10.0,5), Item('Mouse',50.0,5), Item('Keyboard',75.0,5), Item('Cap',5.0,2)]\n"
     ]
    }
   ],
   "source": [
    "Item.instantiate_from_csv()\n",
    "print(Item.all)"
   ]
  },
  {
   "cell_type": "markdown",
   "id": "3139612d",
   "metadata": {},
   "source": [
    "Static methods are not passing the object reference as the first argument in the background! This should do something that has a relationship with the class, but not something that must be unique per instance!"
   ]
  },
  {
   "cell_type": "code",
   "execution_count": 40,
   "id": "48ad3cdc",
   "metadata": {},
   "outputs": [],
   "source": [
    "class Item:\n",
    "    \n",
    "    pay_rate = 0.8 # The pay rate after 20% discount\n",
    "    all = []\n",
    "    \n",
    "    def __init__(self,name:str,price:float,quantity=0): \n",
    "        # Run validations to the received arguments\n",
    "        assert price >=0, f\"Price {price} is not greater than or equal to zero!\"\n",
    "        assert quantity >=0, f\"Quantity {quantity} is not greater than or equal to zero!\" \n",
    "        \n",
    "        # Assign to self object\n",
    "        self.name = name\n",
    "        self.price = price\n",
    "        self.quantity = quantity\n",
    "        \n",
    "        # Actions to execute\n",
    "        Item.all.append(self)\n",
    "        \n",
    "    def calculate_total_price(self):\n",
    "        return self.price*self.quantity\n",
    "    \n",
    "    def apply_discount(self):\n",
    "        self.price = self.price* self.pay_rate\n",
    "    \n",
    "    @classmethod\n",
    "    def instantiate_from_csv(cls):\n",
    "        with open('products.csv','r') as f:\n",
    "            reader = csv.DictReader(f) #read content as a list of dictionary\n",
    "            items = list(reader) #convert them as a list\n",
    "            \n",
    "        for item in items:\n",
    "            Item(\n",
    "                name=item.get('name'),\n",
    "                price=float(item.get('price')),\n",
    "                quantity=int(item.get('quantity')),\n",
    "            )\n",
    "            \n",
    "    @staticmethod\n",
    "    def is_integer(num):\n",
    "        # We will count out the floats that are point zero\n",
    "        # For i.e: 5.0, 10.0\n",
    "        if isinstance(num,float):\n",
    "            # Count out the floats that are point zero\n",
    "            return num.is_integer()\n",
    "        elif isinstance(num,int):\n",
    "            return True\n",
    "        else:\n",
    "            return False\n",
    "    \n",
    "    def __repr__(self):\n",
    "        return f\"Item('{self.name}',{self.price},{self.quantity})\""
   ]
  },
  {
   "cell_type": "code",
   "execution_count": 43,
   "id": "44d27845",
   "metadata": {},
   "outputs": [
    {
     "name": "stdout",
     "output_type": "stream",
     "text": [
      "100.0\n",
      "1000.0\n",
      "10.45\n",
      "50.05\n",
      "75.0\n",
      "5.0\n"
     ]
    }
   ],
   "source": [
    "Item.instantiate_from_csv()\n",
    "for item in Item.all:\n",
    "    print(item.price)"
   ]
  },
  {
   "cell_type": "code",
   "execution_count": 44,
   "id": "10472eff",
   "metadata": {},
   "outputs": [
    {
     "name": "stdout",
     "output_type": "stream",
     "text": [
      "True\n",
      "True\n",
      "False\n",
      "False\n",
      "True\n",
      "True\n"
     ]
    }
   ],
   "source": [
    "for i in Item.all:\n",
    "    print(Item.is_integer(i.price))"
   ]
  },
  {
   "cell_type": "markdown",
   "id": "a7704c48",
   "metadata": {},
   "source": [
    "Static methods cannot access the class or its instances using self or cls."
   ]
  },
  {
   "cell_type": "code",
   "execution_count": 45,
   "id": "2c68ee32",
   "metadata": {},
   "outputs": [],
   "source": [
    "class Item:\n",
    "    \n",
    "    pay_rate = 0.8 # The pay rate after 20% discount\n",
    "    all = []\n",
    "    \n",
    "    def __init__(self,name:str,price:float,quantity=0): \n",
    "        # Run validations to the received arguments\n",
    "        assert price >=0, f\"Price {price} is not greater than or equal to zero!\"\n",
    "        assert quantity >=0, f\"Quantity {quantity} is not greater than or equal to zero!\" \n",
    "        \n",
    "        # Assign to self object\n",
    "        self.name = name\n",
    "        self.price = price\n",
    "        self.quantity = quantity\n",
    "        \n",
    "        # Actions to execute\n",
    "        Item.all.append(self)\n",
    "        \n",
    "    def calculate_total_price(self):\n",
    "        return self.price*self.quantity\n",
    "    \n",
    "    def apply_discount(self):\n",
    "        self.price = self.price* self.pay_rate\n",
    "    \n",
    "    @classmethod\n",
    "    def instantiate_from_csv(cls):\n",
    "        with open('products.csv','r') as f:\n",
    "            reader = csv.DictReader(f) #read content as a list of dictionary\n",
    "            items = list(reader) #convert them as a list\n",
    "            \n",
    "        for item in items:\n",
    "            Item(\n",
    "                name=item.get('name'),\n",
    "                price=float(item.get('price')),\n",
    "                quantity=int(item.get('quantity')),\n",
    "            )\n",
    "            \n",
    "    def is_integer(self):\n",
    "        # We will count out the floats that are point zero\n",
    "        # For i.e: 5.0, 10.0\n",
    "        if isinstance(self.price,float):\n",
    "            # Count out the floats that are point zero\n",
    "            return self.price.is_integer()\n",
    "        elif isinstance(self.price,int):\n",
    "            return True\n",
    "        else:\n",
    "            return False\n",
    "    \n",
    "    def __repr__(self):\n",
    "        return f\"Item('{self.name}',{self.price},{self.quantity})\""
   ]
  },
  {
   "cell_type": "code",
   "execution_count": 46,
   "id": "c079d34c",
   "metadata": {},
   "outputs": [
    {
     "name": "stdout",
     "output_type": "stream",
     "text": [
      "True\n",
      "True\n",
      "False\n",
      "False\n",
      "True\n",
      "True\n"
     ]
    }
   ],
   "source": [
    "Item.instantiate_from_csv()\n",
    "for item in Item.all:\n",
    "    print(item.is_integer())"
   ]
  },
  {
   "cell_type": "markdown",
   "id": "0fa85fab",
   "metadata": {},
   "source": [
    "I just tried to see if I implement it using instance method is it work or not :D "
   ]
  }
 ],
 "metadata": {
  "kernelspec": {
   "display_name": "Python 3 (ipykernel)",
   "language": "python",
   "name": "python3"
  },
  "language_info": {
   "codemirror_mode": {
    "name": "ipython",
    "version": 3
   },
   "file_extension": ".py",
   "mimetype": "text/x-python",
   "name": "python",
   "nbconvert_exporter": "python",
   "pygments_lexer": "ipython3",
   "version": "3.9.6"
  }
 },
 "nbformat": 4,
 "nbformat_minor": 5
}
