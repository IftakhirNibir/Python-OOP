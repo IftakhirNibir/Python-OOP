{
 "cells": [
  {
   "cell_type": "markdown",
   "id": "aaebcf62",
   "metadata": {},
   "source": [
    "### Class and Instances <br>\n",
    "<li>Data and Functions associated with a specific class are called attributes and methods.</li>\n",
    "<li>Class is basically a blueprint for creating instances</li>"
   ]
  },
  {
   "cell_type": "code",
   "execution_count": 1,
   "id": "fb0ee91e",
   "metadata": {},
   "outputs": [],
   "source": [
    "class Employee:\n",
    "    pass"
   ]
  },
  {
   "cell_type": "markdown",
   "id": "364d92b9",
   "metadata": {},
   "source": [
    "<li>Each employee that we create using our Employee class will be an instance of that class.</li>"
   ]
  },
  {
   "cell_type": "code",
   "execution_count": 2,
   "id": "ba5aa062",
   "metadata": {},
   "outputs": [],
   "source": [
    "emp1 = Employee()\n",
    "emp2 = Employee()"
   ]
  },
  {
   "cell_type": "code",
   "execution_count": 3,
   "id": "8d9d859c",
   "metadata": {},
   "outputs": [
    {
     "name": "stdout",
     "output_type": "stream",
     "text": [
      "<__main__.Employee object at 0x00000229EA6813D0>\n",
      "<__main__.Employee object at 0x00000229EA661430>\n"
     ]
    }
   ],
   "source": [
    "print(emp1)\n",
    "print(emp2)"
   ]
  },
  {
   "cell_type": "markdown",
   "id": "d1f546c8",
   "metadata": {},
   "source": [
    "We can see that both of these are unique objects, and they're both unique. They both have different locations in memory  "
   ]
  },
  {
   "cell_type": "markdown",
   "id": "3434364b",
   "metadata": {},
   "source": [
    "<li>Instance variables contain Data that is unique to each instance"
   ]
  },
  {
   "cell_type": "code",
   "execution_count": 4,
   "id": "3260ec99",
   "metadata": {},
   "outputs": [],
   "source": [
    "emp1.firstName = \"Test\"\n",
    "emp1.lastName = \"User\"\n",
    "emp1.email = \"testuser@company.com\"\n",
    "emp1.payment = 50000\n",
    "\n",
    "emp2.firstName = \"Test\"\n",
    "emp2.lastName = \"User2\"\n",
    "emp2.email = \"testuser2@company.com\"\n",
    "emp2.payment = 60000"
   ]
  },
  {
   "cell_type": "markdown",
   "id": "5986f809",
   "metadata": {},
   "source": [
    "Each of these instances have attributes that are unique to them. <br>\n",
    "We don't get much benefit of using classes if we did it this way. To make this setup automatically we are going to use a special init method "
   ]
  },
  {
   "cell_type": "code",
   "execution_count": 5,
   "id": "b8132d15",
   "metadata": {},
   "outputs": [],
   "source": [
    "class Employee:\n",
    "    def __init__(self,firstName,lastName,payment): #This is also called constructor \n",
    "        self.firstName = firstName\n",
    "        self.lastName = lastName\n",
    "        self.email = firstName + lastName + '@company.com'\n",
    "        self.payment = payment"
   ]
  },
  {
   "cell_type": "markdown",
   "id": "da53cfa2",
   "metadata": {},
   "source": [
    "firstName, lastName, email, payment are all attributes of our class  "
   ]
  },
  {
   "cell_type": "code",
   "execution_count": 17,
   "id": "5beb03bd",
   "metadata": {},
   "outputs": [],
   "source": [
    "emp1 = Employee('Test','User',50000)\n",
    "emp2 = Employee('Test','User2',60000)"
   ]
  },
  {
   "cell_type": "markdown",
   "id": "d80ef9ac",
   "metadata": {},
   "source": [
    "When we create this it will automatically run init method"
   ]
  },
  {
   "cell_type": "code",
   "execution_count": 7,
   "id": "c88f8cc7",
   "metadata": {},
   "outputs": [
    {
     "name": "stdout",
     "output_type": "stream",
     "text": [
      "TestUser@company.com\n",
      "TestUser2@company.com\n"
     ]
    }
   ],
   "source": [
    "print(emp1.email)\n",
    "print(emp2.email)"
   ]
  },
  {
   "cell_type": "markdown",
   "id": "46f8297f",
   "metadata": {},
   "source": [
    "Now Let's say we wanted to perform some kind of action. To do that we can add some methods to our class"
   ]
  },
  {
   "cell_type": "code",
   "execution_count": 16,
   "id": "100b8d36",
   "metadata": {},
   "outputs": [],
   "source": [
    "class Employee:\n",
    "    def __init__(self,firstName,lastName,payment): \n",
    "        self.firstName = firstName\n",
    "        self.lastName = lastName\n",
    "        self.email = firstName + lastName + '@company.com'\n",
    "        self.payment = payment\n",
    "        \n",
    "    def fullname(self):\n",
    "        return f\"{self.firstName} {self.lastName}\""
   ]
  },
  {
   "cell_type": "code",
   "execution_count": 18,
   "id": "8dab0f52",
   "metadata": {},
   "outputs": [
    {
     "name": "stdout",
     "output_type": "stream",
     "text": [
      "Test User\n"
     ]
    }
   ],
   "source": [
    "print(emp1.fullname())"
   ]
  },
  {
   "cell_type": "code",
   "execution_count": 19,
   "id": "3a2da836",
   "metadata": {},
   "outputs": [
    {
     "name": "stdout",
     "output_type": "stream",
     "text": [
      "<bound method Employee.fullname of <__main__.Employee object at 0x00000229EA681BB0>>\n"
     ]
    }
   ],
   "source": [
    "print(emp1.fullname)"
   ]
  },
  {
   "cell_type": "code",
   "execution_count": 20,
   "id": "6e0bf7de",
   "metadata": {},
   "outputs": [
    {
     "data": {
      "text/plain": [
       "'Test User'"
      ]
     },
     "execution_count": 20,
     "metadata": {},
     "output_type": "execute_result"
    }
   ],
   "source": [
    "emp1.fullname()"
   ]
  },
  {
   "cell_type": "code",
   "execution_count": 21,
   "id": "0ab7b9f4",
   "metadata": {},
   "outputs": [
    {
     "data": {
      "text/plain": [
       "'Test User'"
      ]
     },
     "execution_count": 21,
     "metadata": {},
     "output_type": "execute_result"
    }
   ],
   "source": [
    "Employee.fullname(emp1) # emp1 as self"
   ]
  },
  {
   "cell_type": "markdown",
   "id": "ac04011b",
   "metadata": {},
   "source": [
    "When we call the method on the class, it doesn't know the instance. So we do have to pass in the instance  "
   ]
  }
 ],
 "metadata": {
  "kernelspec": {
   "display_name": "Python 3 (ipykernel)",
   "language": "python",
   "name": "python3"
  },
  "language_info": {
   "codemirror_mode": {
    "name": "ipython",
    "version": 3
   },
   "file_extension": ".py",
   "mimetype": "text/x-python",
   "name": "python",
   "nbconvert_exporter": "python",
   "pygments_lexer": "ipython3",
   "version": "3.9.6"
  }
 },
 "nbformat": 4,
 "nbformat_minor": 5
}
