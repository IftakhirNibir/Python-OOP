{
 "cells": [
  {
   "cell_type": "code",
   "execution_count": 1,
   "id": "f640e872",
   "metadata": {},
   "outputs": [],
   "source": [
    "import csv "
   ]
  },
  {
   "cell_type": "code",
   "execution_count": 13,
   "id": "145a9d21",
   "metadata": {},
   "outputs": [],
   "source": [
    "class Item:\n",
    "    \n",
    "    pay_rate = 0.8 # The pay rate after 20% discount\n",
    "    all = []\n",
    "    \n",
    "    def __init__(self,name:str,price:float,quantity=0): \n",
    "        # Run validations to the received arguments\n",
    "        assert price >=0, f\"Price {price} is not greater than or equal to zero!\"\n",
    "        assert quantity >=0, f\"Quantity {quantity} is not greater than or equal to zero!\" \n",
    "        \n",
    "        # Assign to self object\n",
    "        self.name = name\n",
    "        self.price = price\n",
    "        self.quantity = quantity\n",
    "        \n",
    "        # Actions to execute\n",
    "        Item.all.append(self)\n",
    "        \n",
    "    def calculate_total_price(self):\n",
    "        return self.price*self.quantity\n",
    "    \n",
    "    def apply_discount(self):\n",
    "        self.price = self.price* self.pay_rate\n",
    "    \n",
    "    @classmethod\n",
    "    def instantiate_from_csv(cls):\n",
    "        with open('products.csv','r') as f:\n",
    "            reader = csv.DictReader(f) #read content as a list of dictionary\n",
    "            items = list(reader) #convert them as a list\n",
    "            \n",
    "        for item in items:\n",
    "            Item(\n",
    "                name=item.get('name'),\n",
    "                price=float(item.get('price')),\n",
    "                quantity=int(item.get('quantity')),\n",
    "            )\n",
    "            \n",
    "    @staticmethod\n",
    "    def is_integer(num):\n",
    "        # We will count out the floats that are point zero\n",
    "        # For i.e: 5.0, 10.0\n",
    "        if isinstance(num,float):\n",
    "            # Count out the floats that are point zero\n",
    "            return num.is_integer()\n",
    "        elif isinstance(num,int):\n",
    "            return True\n",
    "        else:\n",
    "            return False\n",
    "    \n",
    "    def __repr__(self):\n",
    "        return f\"Item('{self.name}',{self.price},{self.quantity})\""
   ]
  },
  {
   "cell_type": "code",
   "execution_count": 34,
   "id": "7840f61b",
   "metadata": {},
   "outputs": [],
   "source": [
    "class Phone(Item):\n",
    "    pass"
   ]
  },
  {
   "cell_type": "markdown",
   "id": "e0f65847",
   "metadata": {},
   "source": [
    "The phone class will inherit all the methods in all the attributes that item class has. "
   ]
  },
  {
   "cell_type": "code",
   "execution_count": 31,
   "id": "96258c39",
   "metadata": {},
   "outputs": [],
   "source": [
    "class Phone(Item):\n",
    "    all = []\n",
    "    def __init__(self,name:str,price:float,quantity=0,broken_phones=0):\n",
    "        \n",
    "        super().__init__(\n",
    "            name, price, quantity\n",
    "        )\n",
    "\n",
    "        # Run validations to the received arguments\n",
    "        assert broken_phones>=0, f\"Broken Phones {broken_phones} is not greater than or equal to zero!\"\n",
    "\n",
    "        # Assign to self object\n",
    "        self.broken_phones = broken_phones\n",
    "\n",
    "        # Actions to execute\n",
    "        Phone.all.append(self)"
   ]
  },
  {
   "cell_type": "markdown",
   "id": "c5fdca29",
   "metadata": {},
   "source": [
    "'super' allow us to have full access to all the attributes of the parent class. By using the super function, we don't really need to hard code in the attribute assignment"
   ]
  },
  {
   "cell_type": "code",
   "execution_count": 32,
   "id": "a1a85a2d",
   "metadata": {},
   "outputs": [
    {
     "name": "stdout",
     "output_type": "stream",
     "text": [
      "2500\n"
     ]
    }
   ],
   "source": [
    "phone1 = Phone(\"jscPhonev10\",500,5,1)\n",
    "print(phone1.calculate_total_price())\n",
    "phone2 = Phone(\"jscPhonev20\",700,5)"
   ]
  },
  {
   "cell_type": "code",
   "execution_count": 33,
   "id": "aa31748e",
   "metadata": {},
   "outputs": [
    {
     "name": "stdout",
     "output_type": "stream",
     "text": [
      "[Item('jscPhonev10',500,5), Item('jscPhonev20',700,5)]\n"
     ]
    }
   ],
   "source": [
    "print(Phone.all)"
   ]
  },
  {
   "cell_type": "markdown",
   "id": "2566193e",
   "metadata": {},
   "source": [
    "We get the value from Phone class but the result shows 'Item' To change this we need to modify Item class \"__repr__\"  method"
   ]
  },
  {
   "cell_type": "code",
   "execution_count": 43,
   "id": "f13c900a",
   "metadata": {},
   "outputs": [],
   "source": [
    "class Item:\n",
    "    \n",
    "    pay_rate = 0.8 # The pay rate after 20% discount\n",
    "    all = []\n",
    "    \n",
    "    def __init__(self,name:str,price:float,quantity=0): \n",
    "        # Run validations to the received arguments\n",
    "        assert price >=0, f\"Price {price} is not greater than or equal to zero!\"\n",
    "        assert quantity >=0, f\"Quantity {quantity} is not greater than or equal to zero!\" \n",
    "        \n",
    "        # Assign to self object\n",
    "        self.name = name\n",
    "        self.price = price\n",
    "        self.quantity = quantity\n",
    "        \n",
    "        # Actions to execute\n",
    "        Item.all.append(self)\n",
    "        \n",
    "    def calculate_total_price(self):\n",
    "        return self.price*self.quantity\n",
    "    \n",
    "    def apply_discount(self):\n",
    "        self.price = self.price* self.pay_rate\n",
    "    \n",
    "    @classmethod\n",
    "    def instantiate_from_csv(cls):\n",
    "        with open('products.csv','r') as f:\n",
    "            reader = csv.DictReader(f) #read content as a list of dictionary\n",
    "            items = list(reader) #convert them as a list\n",
    "            \n",
    "        for item in items:\n",
    "            Item(\n",
    "                name=item.get('name'),\n",
    "                price=float(item.get('price')),\n",
    "                quantity=int(item.get('quantity')),\n",
    "            )\n",
    "            \n",
    "    @staticmethod\n",
    "    def is_integer(num):\n",
    "        # We will count out the floats that are point zero\n",
    "        # For i.e: 5.0, 10.0\n",
    "        if isinstance(num,float):\n",
    "            # Count out the floats that are point zero\n",
    "            return num.is_integer()\n",
    "        elif isinstance(num,int):\n",
    "            return True\n",
    "        else:\n",
    "            return False\n",
    "    \n",
    "    def __repr__(self):\n",
    "        return f\"{self.__class__.__name__}('{self.name}',{self.price},{self.quantity})\"\n",
    "    # Way to access to the name of the class"
   ]
  },
  {
   "cell_type": "markdown",
   "id": "c29ca94e",
   "metadata": {},
   "source": [
    "Now we will again inherite Item class for Phone class"
   ]
  },
  {
   "cell_type": "code",
   "execution_count": 38,
   "id": "fc014f10",
   "metadata": {},
   "outputs": [],
   "source": [
    "class Phone(Item):\n",
    "    all = []\n",
    "    def __init__(self,name:str,price:float,quantity=0,broken_phones=0):\n",
    "        \n",
    "        super().__init__(\n",
    "            name, price, quantity\n",
    "        )\n",
    "\n",
    "        # Run validations to the received arguments\n",
    "        assert broken_phones>=0, f\"Broken Phones {broken_phones} is not greater than or equal to zero!\"\n",
    "\n",
    "        # Assign to self object\n",
    "        self.broken_phones = broken_phones\n",
    "\n",
    "        # Actions to execute\n",
    "        Phone.all.append(self)"
   ]
  },
  {
   "cell_type": "code",
   "execution_count": 39,
   "id": "4adfc169",
   "metadata": {},
   "outputs": [
    {
     "name": "stdout",
     "output_type": "stream",
     "text": [
      "2500\n"
     ]
    }
   ],
   "source": [
    "phone1 = Phone(\"jscPhonev10\",500,5,1)\n",
    "print(phone1.calculate_total_price())\n",
    "phone2 = Phone(\"jscPhonev20\",700,5)"
   ]
  },
  {
   "cell_type": "code",
   "execution_count": 40,
   "id": "48d2ae34",
   "metadata": {},
   "outputs": [
    {
     "name": "stdout",
     "output_type": "stream",
     "text": [
      "[Phone('jscPhonev10',500,5), Phone('jscPhonev20',700,5)]\n"
     ]
    }
   ],
   "source": [
    "print(Phone.all)"
   ]
  },
  {
   "cell_type": "markdown",
   "id": "c4285b69",
   "metadata": {},
   "source": [
    "Phone is our child class and Item is our parent class. We modify our parent class to get object name so we don't need 'all' list variable to our child class. Because without this it will also work "
   ]
  },
  {
   "cell_type": "code",
   "execution_count": 44,
   "id": "87854f5f",
   "metadata": {},
   "outputs": [],
   "source": [
    "class Phone(Item):\n",
    "    def __init__(self,name:str,price:float,quantity=0,broken_phones=0):\n",
    "        super().__init__(\n",
    "            name, price, quantity\n",
    "        )\n",
    "        # Run validations to the received arguments\n",
    "        assert broken_phones>=0, f\"Broken Phones {broken_phones} is not greater than or equal to zero!\"\n",
    "        # Assign to self object\n",
    "        self.broken_phones = broken_phones"
   ]
  },
  {
   "cell_type": "code",
   "execution_count": 45,
   "id": "3b9b8c94",
   "metadata": {},
   "outputs": [
    {
     "name": "stdout",
     "output_type": "stream",
     "text": [
      "[Phone('jscPhonev10',500,5), Phone('jscPhonev20',700,5)]\n"
     ]
    }
   ],
   "source": [
    "phone1 = Phone(\"jscPhonev10\",500,5,1)\n",
    "phone2 = Phone(\"jscPhonev20\",700,5)\n",
    "print(Phone.all)"
   ]
  },
  {
   "cell_type": "code",
   "execution_count": null,
   "id": "f1f2d50c",
   "metadata": {},
   "outputs": [],
   "source": []
  }
 ],
 "metadata": {
  "kernelspec": {
   "display_name": "Python 3 (ipykernel)",
   "language": "python",
   "name": "python3"
  },
  "language_info": {
   "codemirror_mode": {
    "name": "ipython",
    "version": 3
   },
   "file_extension": ".py",
   "mimetype": "text/x-python",
   "name": "python",
   "nbconvert_exporter": "python",
   "pygments_lexer": "ipython3",
   "version": "3.9.6"
  }
 },
 "nbformat": 4,
 "nbformat_minor": 5
}
