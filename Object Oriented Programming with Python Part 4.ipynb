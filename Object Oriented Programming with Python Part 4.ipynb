{
 "cells": [
  {
   "cell_type": "code",
   "execution_count": 13,
   "id": "5d82bde8",
   "metadata": {},
   "outputs": [],
   "source": [
    "import csv"
   ]
  },
  {
   "cell_type": "code",
   "execution_count": 14,
   "id": "6b777258",
   "metadata": {},
   "outputs": [],
   "source": [
    "class Item:\n",
    "    \n",
    "    pay_rate = 0.8 # The pay rate after 20% discount\n",
    "    all = []\n",
    "    \n",
    "    def __init__(self,name:str,price:float,quantity=0): \n",
    "        # Run validations to the received arguments\n",
    "        assert price >=0, f\"Price {price} is not greater than or equal to zero!\"\n",
    "        assert quantity >=0, f\"Quantity {quantity} is not greater than or equal to zero!\" \n",
    "        \n",
    "        # Assign to self object\n",
    "        self.name = name\n",
    "        self.price = price\n",
    "        self.quantity = quantity\n",
    "        \n",
    "        # Actions to execute\n",
    "        Item.all.append(self)\n",
    "        \n",
    "    def calculate_total_price(self):\n",
    "        return self.price*self.quantity\n",
    "    \n",
    "    def apply_discount(self):\n",
    "        self.price = self.price* self.pay_rate\n",
    "    \n",
    "    @classmethod\n",
    "    def instantiate_from_csv(cls):\n",
    "        with open('products.csv','r') as f:\n",
    "            reader = csv.DictReader(f) #read content as a list of dictionary\n",
    "            items = list(reader) #convert them as a list\n",
    "            \n",
    "        for item in items:\n",
    "            Item(\n",
    "                name=item.get('name'),\n",
    "                price=float(item.get('price')),\n",
    "                quantity=int(item.get('quantity')),\n",
    "            )\n",
    "            \n",
    "    @staticmethod\n",
    "    def is_integer(num):\n",
    "        # We will count out the floats that are point zero\n",
    "        # For i.e: 5.0, 10.0\n",
    "        if isinstance(num,float):\n",
    "            # Count out the floats that are point zero\n",
    "            return num.is_integer()\n",
    "        elif isinstance(num,int):\n",
    "            return True\n",
    "        else:\n",
    "            return False\n",
    "    \n",
    "    def __repr__(self):\n",
    "        return f\"{self.__class__.__name__}('{self.name}',{self.price},{self.quantity})\""
   ]
  },
  {
   "cell_type": "code",
   "execution_count": 19,
   "id": "49252b8e",
   "metadata": {},
   "outputs": [
    {
     "name": "stdout",
     "output_type": "stream",
     "text": [
      "OtherItem\n"
     ]
    }
   ],
   "source": [
    "item1 = Item(\"MyItem\", 750)\n",
    "item1.name = \"OtherItem\" #override this attribute\n",
    "print(item1.name)"
   ]
  },
  {
   "cell_type": "markdown",
   "id": "a87d82d8",
   "metadata": {},
   "source": [
    "We can create 'read only attributes' by using a 'property' decorator before our functions   "
   ]
  },
  {
   "cell_type": "markdown",
   "id": "dfc046dd",
   "metadata": {},
   "source": [
    "First things first I go ahead and setup the value for my 'self._name' and then make function for 'property' decorator and return same things"
   ]
  },
  {
   "cell_type": "code",
   "execution_count": 24,
   "id": "f472aa53",
   "metadata": {},
   "outputs": [],
   "source": [
    "class Item:\n",
    "    \n",
    "    pay_rate = 0.8 # The pay rate after 20% discount\n",
    "    all = []\n",
    "    \n",
    "    def __init__(self,name:str,price:float,quantity=0): \n",
    "        # Run validations to the received arguments\n",
    "        assert price >=0, f\"Price {price} is not greater than or equal to zero!\"\n",
    "        assert quantity >=0, f\"Quantity {quantity} is not greater than or equal to zero!\" \n",
    "        \n",
    "        # Assign to self object\n",
    "        self._name = name\n",
    "        self.price = price\n",
    "        self.quantity = quantity\n",
    "        \n",
    "        # Actions to execute\n",
    "        Item.all.append(self)\n",
    "        \n",
    "    @property\n",
    "    def name(self):\n",
    "        return self._name\n",
    "        \n",
    "    def calculate_total_price(self):\n",
    "        return self.price*self.quantity\n",
    "    \n",
    "    def apply_discount(self):\n",
    "        self.price = self.price* self.pay_rate\n",
    "    \n",
    "    @classmethod\n",
    "    def instantiate_from_csv(cls):\n",
    "        with open('products.csv','r') as f:\n",
    "            reader = csv.DictReader(f) #read content as a list of dictionary\n",
    "            items = list(reader) #convert them as a list\n",
    "            \n",
    "        for item in items:\n",
    "            Item(\n",
    "                name=item.get('name'),\n",
    "                price=float(item.get('price')),\n",
    "                quantity=int(item.get('quantity')),\n",
    "            )\n",
    "            \n",
    "    @staticmethod\n",
    "    def is_integer(num):\n",
    "        # We will count out the floats that are point zero\n",
    "        # For i.e: 5.0, 10.0\n",
    "        if isinstance(num,float):\n",
    "            # Count out the floats that are point zero\n",
    "            return num.is_integer()\n",
    "        elif isinstance(num,int):\n",
    "            return True\n",
    "        else:\n",
    "            return False\n",
    "    \n",
    "    def __repr__(self):\n",
    "        return f\"{self.__class__.__name__}('{self.name}',{self.price},{self.quantity})\""
   ]
  },
  {
   "cell_type": "code",
   "execution_count": 25,
   "id": "101fd7c3",
   "metadata": {},
   "outputs": [
    {
     "ename": "AttributeError",
     "evalue": "can't set attribute",
     "output_type": "error",
     "traceback": [
      "\u001b[1;31m---------------------------------------------------------------------------\u001b[0m",
      "\u001b[1;31mAttributeError\u001b[0m                            Traceback (most recent call last)",
      "\u001b[1;32m~\\AppData\\Local\\Temp/ipykernel_3104/3241975174.py\u001b[0m in \u001b[0;36m<module>\u001b[1;34m\u001b[0m\n\u001b[0;32m      1\u001b[0m \u001b[0mitem1\u001b[0m \u001b[1;33m=\u001b[0m \u001b[0mItem\u001b[0m\u001b[1;33m(\u001b[0m\u001b[1;34m\"MyItem\"\u001b[0m\u001b[1;33m,\u001b[0m \u001b[1;36m750\u001b[0m\u001b[1;33m)\u001b[0m\u001b[1;33m\u001b[0m\u001b[1;33m\u001b[0m\u001b[0m\n\u001b[1;32m----> 2\u001b[1;33m \u001b[0mitem1\u001b[0m\u001b[1;33m.\u001b[0m\u001b[0mname\u001b[0m \u001b[1;33m=\u001b[0m \u001b[1;34m\"OtherItem\"\u001b[0m \u001b[1;31m#override this attribute\u001b[0m\u001b[1;33m\u001b[0m\u001b[1;33m\u001b[0m\u001b[0m\n\u001b[0m\u001b[0;32m      3\u001b[0m \u001b[0mprint\u001b[0m\u001b[1;33m(\u001b[0m\u001b[0mitem1\u001b[0m\u001b[1;33m.\u001b[0m\u001b[0mname\u001b[0m\u001b[1;33m)\u001b[0m\u001b[1;33m\u001b[0m\u001b[1;33m\u001b[0m\u001b[0m\n",
      "\u001b[1;31mAttributeError\u001b[0m: can't set attribute"
     ]
    }
   ],
   "source": [
    "item1 = Item(\"MyItem\", 750)\n",
    "item1.name = \"OtherItem\" #override this attribute\n",
    "print(item1.name)"
   ]
  },
  {
   "cell_type": "code",
   "execution_count": 26,
   "id": "085ef399",
   "metadata": {},
   "outputs": [
    {
     "name": "stdout",
     "output_type": "stream",
     "text": [
      "OtherItem\n"
     ]
    }
   ],
   "source": [
    "item1 = Item(\"MyItem\", 750)\n",
    "item1._name = \"OtherItem\" #override this attribute\n",
    "print(item1.name)"
   ]
  },
  {
   "cell_type": "markdown",
   "id": "9684ab1d",
   "metadata": {},
   "source": [
    "We can solve this issue by adding double underscore instead of single underscore"
   ]
  },
  {
   "cell_type": "code",
   "execution_count": 37,
   "id": "0c13b6f5",
   "metadata": {},
   "outputs": [],
   "source": [
    "class Item:\n",
    "    \n",
    "    pay_rate = 0.8 # The pay rate after 20% discount\n",
    "    all = []\n",
    "    \n",
    "    def __init__(self,name:str,price:float,quantity=0): \n",
    "        # Run validations to the received arguments\n",
    "        assert price >=0, f\"Price {price} is not greater than or equal to zero!\"\n",
    "        assert quantity >=0, f\"Quantity {quantity} is not greater than or equal to zero!\" \n",
    "        \n",
    "        # Assign to self object\n",
    "        self.__name = name\n",
    "        self.price = price\n",
    "        self.quantity = quantity\n",
    "        \n",
    "        # Actions to execute\n",
    "        Item.all.append(self)\n",
    "        \n",
    "    @property\n",
    "    def name(self):\n",
    "        return self.__name\n",
    "        \n",
    "    def calculate_total_price(self):\n",
    "        return self.price*self.quantity\n",
    "    \n",
    "    def apply_discount(self):\n",
    "        self.price = self.price* self.pay_rate\n",
    "    \n",
    "    @classmethod\n",
    "    def instantiate_from_csv(cls):\n",
    "        with open('products.csv','r') as f:\n",
    "            reader = csv.DictReader(f) #read content as a list of dictionary\n",
    "            items = list(reader) #convert them as a list\n",
    "            \n",
    "        for item in items:\n",
    "            Item(\n",
    "                name=item.get('name'),\n",
    "                price=float(item.get('price')),\n",
    "                quantity=int(item.get('quantity')),\n",
    "            )\n",
    "            \n",
    "    @staticmethod\n",
    "    def is_integer(num):\n",
    "        # We will count out the floats that are point zero\n",
    "        # For i.e: 5.0, 10.0\n",
    "        if isinstance(num,float):\n",
    "            # Count out the floats that are point zero\n",
    "            return num.is_integer()\n",
    "        elif isinstance(num,int):\n",
    "            return True\n",
    "        else:\n",
    "            return False\n",
    "    \n",
    "    def __repr__(self):\n",
    "        return f\"{self.__class__.__name__}('{self.name}',{self.price},{self.quantity})\""
   ]
  },
  {
   "cell_type": "code",
   "execution_count": 38,
   "id": "7a31e8ee",
   "metadata": {},
   "outputs": [
    {
     "ename": "AttributeError",
     "evalue": "can't set attribute",
     "output_type": "error",
     "traceback": [
      "\u001b[1;31m---------------------------------------------------------------------------\u001b[0m",
      "\u001b[1;31mAttributeError\u001b[0m                            Traceback (most recent call last)",
      "\u001b[1;32m~\\AppData\\Local\\Temp/ipykernel_3104/3241975174.py\u001b[0m in \u001b[0;36m<module>\u001b[1;34m\u001b[0m\n\u001b[0;32m      1\u001b[0m \u001b[0mitem1\u001b[0m \u001b[1;33m=\u001b[0m \u001b[0mItem\u001b[0m\u001b[1;33m(\u001b[0m\u001b[1;34m\"MyItem\"\u001b[0m\u001b[1;33m,\u001b[0m \u001b[1;36m750\u001b[0m\u001b[1;33m)\u001b[0m\u001b[1;33m\u001b[0m\u001b[1;33m\u001b[0m\u001b[0m\n\u001b[1;32m----> 2\u001b[1;33m \u001b[0mitem1\u001b[0m\u001b[1;33m.\u001b[0m\u001b[0mname\u001b[0m \u001b[1;33m=\u001b[0m \u001b[1;34m\"OtherItem\"\u001b[0m \u001b[1;31m#override this attribute\u001b[0m\u001b[1;33m\u001b[0m\u001b[1;33m\u001b[0m\u001b[0m\n\u001b[0m\u001b[0;32m      3\u001b[0m \u001b[0mprint\u001b[0m\u001b[1;33m(\u001b[0m\u001b[0mitem1\u001b[0m\u001b[1;33m.\u001b[0m\u001b[0mname\u001b[0m\u001b[1;33m)\u001b[0m\u001b[1;33m\u001b[0m\u001b[1;33m\u001b[0m\u001b[0m\n",
      "\u001b[1;31mAttributeError\u001b[0m: can't set attribute"
     ]
    }
   ],
   "source": [
    "item1 = Item(\"MyItem\", 750)\n",
    "item1.name = \"OtherItem\" #override this attribute\n",
    "print(item1.name)"
   ]
  },
  {
   "cell_type": "code",
   "execution_count": 39,
   "id": "8575d455",
   "metadata": {},
   "outputs": [
    {
     "name": "stdout",
     "output_type": "stream",
     "text": [
      "MyItem\n"
     ]
    }
   ],
   "source": [
    "item1 = Item(\"MyItem\", 750)\n",
    "item1._name = \"OtherItem\" #override this attribute\n",
    "print(item1.name)"
   ]
  },
  {
   "cell_type": "code",
   "execution_count": 28,
   "id": "0e54f5bd",
   "metadata": {},
   "outputs": [
    {
     "name": "stdout",
     "output_type": "stream",
     "text": [
      "MyItem\n"
     ]
    }
   ],
   "source": [
    "item1 = Item(\"MyItem\", 750)\n",
    "item1.__name = \"OtherItem\" #override this attribute\n",
    "print(item1.name)"
   ]
  },
  {
   "cell_type": "markdown",
   "id": "1882d996",
   "metadata": {},
   "source": [
    "See it's not changed "
   ]
  },
  {
   "cell_type": "markdown",
   "id": "43c08b47",
   "metadata": {},
   "source": [
    "If we want to set the name value with condition it is also possible. For this we need to use decorator named 'methodName.setter' then use same method name but need to send extra parameter for setting value. "
   ]
  },
  {
   "cell_type": "code",
   "execution_count": 34,
   "id": "a0057697",
   "metadata": {},
   "outputs": [],
   "source": [
    "class Item:\n",
    "    \n",
    "    pay_rate = 0.8 # The pay rate after 20% discount\n",
    "    all = []\n",
    "    \n",
    "    def __init__(self,name:str,price:float,quantity=0): \n",
    "        # Run validations to the received arguments\n",
    "        assert price >=0, f\"Price {price} is not greater than or equal to zero!\"\n",
    "        assert quantity >=0, f\"Quantity {quantity} is not greater than or equal to zero!\" \n",
    "        \n",
    "        # Assign to self object\n",
    "        self.__name = name\n",
    "        self.price = price\n",
    "        self.quantity = quantity\n",
    "        \n",
    "        # Actions to execute\n",
    "        Item.all.append(self)\n",
    "        \n",
    "    @property\n",
    "    def name(self):\n",
    "        return self.__name\n",
    "    \n",
    "    @name.setter\n",
    "    def name(self,value):\n",
    "        if len(value) > 10:\n",
    "            raise Exception(\"The name lenth is too long\")\n",
    "        else:\n",
    "            self.__name = value\n",
    "        \n",
    "    def calculate_total_price(self):\n",
    "        return self.price*self.quantity\n",
    "    \n",
    "    def apply_discount(self):\n",
    "        self.price = self.price* self.pay_rate\n",
    "    \n",
    "    @classmethod\n",
    "    def instantiate_from_csv(cls):\n",
    "        with open('products.csv','r') as f:\n",
    "            reader = csv.DictReader(f) #read content as a list of dictionary\n",
    "            items = list(reader) #convert them as a list\n",
    "            \n",
    "        for item in items:\n",
    "            Item(\n",
    "                name=item.get('name'),\n",
    "                price=float(item.get('price')),\n",
    "                quantity=int(item.get('quantity')),\n",
    "            )\n",
    "            \n",
    "    @staticmethod\n",
    "    def is_integer(num):\n",
    "        # We will count out the floats that are point zero\n",
    "        # For i.e: 5.0, 10.0\n",
    "        if isinstance(num,float):\n",
    "            # Count out the floats that are point zero\n",
    "            return num.is_integer()\n",
    "        elif isinstance(num,int):\n",
    "            return True\n",
    "        else:\n",
    "            return False\n",
    "    \n",
    "    def __repr__(self):\n",
    "        return f\"{self.__class__.__name__}('{self.name}',{self.price},{self.quantity})\""
   ]
  },
  {
   "cell_type": "code",
   "execution_count": 35,
   "id": "bae769ce",
   "metadata": {},
   "outputs": [
    {
     "name": "stdout",
     "output_type": "stream",
     "text": [
      "OtherItem\n"
     ]
    }
   ],
   "source": [
    "item1 = Item(\"MyItem\", 750)\n",
    "item1.name = \"OtherItem\" #override this attribute\n",
    "print(item1.name)"
   ]
  },
  {
   "cell_type": "code",
   "execution_count": 36,
   "id": "ada36888",
   "metadata": {},
   "outputs": [
    {
     "ename": "Exception",
     "evalue": "The name lenth is too long",
     "output_type": "error",
     "traceback": [
      "\u001b[1;31m---------------------------------------------------------------------------\u001b[0m",
      "\u001b[1;31mException\u001b[0m                                 Traceback (most recent call last)",
      "\u001b[1;32m~\\AppData\\Local\\Temp/ipykernel_3104/426937700.py\u001b[0m in \u001b[0;36m<module>\u001b[1;34m\u001b[0m\n\u001b[1;32m----> 1\u001b[1;33m \u001b[0mitem1\u001b[0m\u001b[1;33m.\u001b[0m\u001b[0mname\u001b[0m \u001b[1;33m=\u001b[0m \u001b[1;34m\"OtherItemmm\"\u001b[0m \u001b[1;31m#override this attribute\u001b[0m\u001b[1;33m\u001b[0m\u001b[1;33m\u001b[0m\u001b[0m\n\u001b[0m\u001b[0;32m      2\u001b[0m \u001b[0mprint\u001b[0m\u001b[1;33m(\u001b[0m\u001b[0mitem1\u001b[0m\u001b[1;33m.\u001b[0m\u001b[0mname\u001b[0m\u001b[1;33m)\u001b[0m\u001b[1;33m\u001b[0m\u001b[1;33m\u001b[0m\u001b[0m\n",
      "\u001b[1;32m~\\AppData\\Local\\Temp/ipykernel_3104/1159671639.py\u001b[0m in \u001b[0;36mname\u001b[1;34m(self, value)\u001b[0m\n\u001b[0;32m     24\u001b[0m     \u001b[1;32mdef\u001b[0m \u001b[0mname\u001b[0m\u001b[1;33m(\u001b[0m\u001b[0mself\u001b[0m\u001b[1;33m,\u001b[0m\u001b[0mvalue\u001b[0m\u001b[1;33m)\u001b[0m\u001b[1;33m:\u001b[0m\u001b[1;33m\u001b[0m\u001b[1;33m\u001b[0m\u001b[0m\n\u001b[0;32m     25\u001b[0m         \u001b[1;32mif\u001b[0m \u001b[0mlen\u001b[0m\u001b[1;33m(\u001b[0m\u001b[0mvalue\u001b[0m\u001b[1;33m)\u001b[0m \u001b[1;33m>\u001b[0m \u001b[1;36m10\u001b[0m\u001b[1;33m:\u001b[0m\u001b[1;33m\u001b[0m\u001b[1;33m\u001b[0m\u001b[0m\n\u001b[1;32m---> 26\u001b[1;33m             \u001b[1;32mraise\u001b[0m \u001b[0mException\u001b[0m\u001b[1;33m(\u001b[0m\u001b[1;34m\"The name lenth is too long\"\u001b[0m\u001b[1;33m)\u001b[0m\u001b[1;33m\u001b[0m\u001b[1;33m\u001b[0m\u001b[0m\n\u001b[0m\u001b[0;32m     27\u001b[0m         \u001b[1;32melse\u001b[0m\u001b[1;33m:\u001b[0m\u001b[1;33m\u001b[0m\u001b[1;33m\u001b[0m\u001b[0m\n\u001b[0;32m     28\u001b[0m             \u001b[0mself\u001b[0m\u001b[1;33m.\u001b[0m\u001b[0m__name\u001b[0m \u001b[1;33m=\u001b[0m \u001b[0mvalue\u001b[0m\u001b[1;33m\u001b[0m\u001b[1;33m\u001b[0m\u001b[0m\n",
      "\u001b[1;31mException\u001b[0m: The name lenth is too long"
     ]
    }
   ],
   "source": [
    "item1.name = \"OtherItemmm\" #override this attribute\n",
    "print(item1.name)"
   ]
  }
 ],
 "metadata": {
  "kernelspec": {
   "display_name": "Python 3 (ipykernel)",
   "language": "python",
   "name": "python3"
  },
  "language_info": {
   "codemirror_mode": {
    "name": "ipython",
    "version": 3
   },
   "file_extension": ".py",
   "mimetype": "text/x-python",
   "name": "python",
   "nbconvert_exporter": "python",
   "pygments_lexer": "ipython3",
   "version": "3.9.6"
  }
 },
 "nbformat": 4,
 "nbformat_minor": 5
}
